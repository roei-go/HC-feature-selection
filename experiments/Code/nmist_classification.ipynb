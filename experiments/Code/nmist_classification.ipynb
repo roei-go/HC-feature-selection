{
 "cells": [
  {
   "cell_type": "markdown",
   "source": [
    "### Imports"
   ],
   "metadata": {
    "collapsed": false
   }
  },
  {
   "cell_type": "code",
   "execution_count": 60,
   "metadata": {
    "collapsed": true
   },
   "outputs": [],
   "source": [
    "import os\n",
    "from tensorflow import keras\n",
    "from keras.datasets import mnist\n",
    "from keras.utils import to_categorical\n",
    "from sklearn.model_selection import train_test_split\n",
    "from keras import layers"
   ]
  },
  {
   "cell_type": "code",
   "execution_count": 49,
   "outputs": [],
   "source": [
    "def load_dataset():\n",
    "     # load dataset\n",
    "     (X_train, y_train), (X_test, y_test) = mnist.load_data()\n",
    "     # reshape dataset to have a single channel\n",
    "     X_train = X_train.reshape((X_train.shape[0], 28, 28, 1))\n",
    "     X_test = X_test.reshape((X_test.shape[0], 28, 28, 1))\n",
    "\n",
    "     return (X_train, y_train), (X_test, y_test)\n",
    "\n",
    "# scales images to the [0,1] range\n",
    "def scale_images(images):\n",
    "\t# convert from integers to floats\n",
    "\timages_norm = images.astype('float32')\n",
    "\t# normalize to range 0-1\n",
    "\timages_norm = images_norm / 255.0\n",
    "\t# return normalized images\n",
    "\treturn images_norm"
   ],
   "metadata": {
    "collapsed": false
   }
  },
  {
   "cell_type": "code",
   "execution_count": 50,
   "outputs": [
    {
     "name": "stdout",
     "output_type": "stream",
     "text": [
      "Train: X=(60000, 28, 28, 1), y=(60000,)\n",
      "Test: X=(10000, 28, 28, 1), y=(10000,)\n"
     ]
    }
   ],
   "source": [
    "# load dataset\n",
    "(X_train, y_train), (X_test, y_test) = load_dataset()\n",
    "# summarize loaded dataset\n",
    "print('Train: X=%s, y=%s' % (X_train.shape, y_train.shape))\n",
    "print('Test: X=%s, y=%s' % (X_test.shape, y_test.shape))\n",
    "X_train = scale_images(X_train)\n",
    "X_test = scale_images(X_test)"
   ],
   "metadata": {
    "collapsed": false
   }
  },
  {
   "cell_type": "code",
   "execution_count": 51,
   "outputs": [
    {
     "name": "stdout",
     "output_type": "stream",
     "text": [
      "Model: \"sequential_8\"\n",
      "_________________________________________________________________\n",
      " Layer (type)                Output Shape              Param #   \n",
      "=================================================================\n",
      " conv2d_13 (Conv2D)          (None, 26, 26, 32)        320       \n",
      "                                                                 \n",
      " batch_normalization_8 (Batc  (None, 26, 26, 32)       128       \n",
      " hNormalization)                                                 \n",
      "                                                                 \n",
      " max_pooling2d_13 (MaxPoolin  (None, 13, 13, 32)       0         \n",
      " g2D)                                                            \n",
      "                                                                 \n",
      " conv2d_14 (Conv2D)          (None, 11, 11, 64)        18496     \n",
      "                                                                 \n",
      " batch_normalization_9 (Batc  (None, 11, 11, 64)       256       \n",
      " hNormalization)                                                 \n",
      "                                                                 \n",
      " max_pooling2d_14 (MaxPoolin  (None, 5, 5, 64)         0         \n",
      " g2D)                                                            \n",
      "                                                                 \n",
      " flatten_layers (Flatten)    (None, 1600)              0         \n",
      "                                                                 \n",
      " dense_8 (Dense)             (None, 10)                16010     \n",
      "                                                                 \n",
      "=================================================================\n",
      "Total params: 35,210\n",
      "Trainable params: 35,018\n",
      "Non-trainable params: 192\n",
      "_________________________________________________________________\n"
     ]
    }
   ],
   "source": [
    "nmist_class_model = keras.Sequential(\n",
    "    [\n",
    "        keras.Input(shape=X_train.shape[1:]),\n",
    "        layers.Conv2D(32, (3,3), activation=\"relu\", kernel_initializer='he_uniform'),\n",
    "        layers.BatchNormalization(),\n",
    "        layers.MaxPooling2D((2, 2)),\n",
    "        layers.Conv2D(64, (3, 3), activation='relu', kernel_initializer='he_uniform'),\n",
    "        layers.BatchNormalization(),\n",
    "        layers.MaxPooling2D((2, 2)),\n",
    "        layers.Flatten(name='flatten_layer'),\n",
    "        layers.Dense(10, activation='softmax')\n",
    "    ]\n",
    ")\n",
    "nmist_class_model.summary()\n",
    "\n",
    "nmist_class_model.compile(\n",
    "    optimizer=keras.optimizers.Adam(),\n",
    "    # Loss function to minimize\n",
    "    loss=keras.losses.CategoricalCrossentropy(),\n",
    "    # List of metrics to monitor\n",
    "    metrics=[keras.metrics.CategoricalAccuracy()],\n",
    ")"
   ],
   "metadata": {
    "collapsed": false
   }
  },
  {
   "cell_type": "code",
   "execution_count": 58,
   "outputs": [
    {
     "name": "stdout",
     "output_type": "stream",
     "text": [
      "Train: X=(51000, 28, 28, 1), y=(51000,)\n",
      "Val: X=(9000, 28, 28, 1), y=(9000,)\n",
      "Fit model on training data\n",
      "Epoch 1/10\n",
      "797/797 [==============================] - 22s 26ms/step - loss: 0.1549 - categorical_accuracy: 0.9530 - val_loss: 0.0654 - val_categorical_accuracy: 0.9790\n",
      "Epoch 2/10\n",
      "797/797 [==============================] - 25s 31ms/step - loss: 0.0525 - categorical_accuracy: 0.9837 - val_loss: 0.0641 - val_categorical_accuracy: 0.9819\n",
      "Epoch 3/10\n",
      "797/797 [==============================] - 25s 31ms/step - loss: 0.0356 - categorical_accuracy: 0.9890 - val_loss: 0.0468 - val_categorical_accuracy: 0.9854\n",
      "Epoch 4/10\n",
      "797/797 [==============================] - 25s 31ms/step - loss: 0.0247 - categorical_accuracy: 0.9921 - val_loss: 0.0502 - val_categorical_accuracy: 0.9864\n",
      "Epoch 5/10\n",
      "797/797 [==============================] - 25s 32ms/step - loss: 0.0216 - categorical_accuracy: 0.9933 - val_loss: 0.0500 - val_categorical_accuracy: 0.9876\n",
      "Epoch 6/10\n",
      "797/797 [==============================] - 25s 31ms/step - loss: 0.0172 - categorical_accuracy: 0.9940 - val_loss: 0.0463 - val_categorical_accuracy: 0.9883\n",
      "Epoch 7/10\n",
      "797/797 [==============================] - 25s 32ms/step - loss: 0.0130 - categorical_accuracy: 0.9958 - val_loss: 0.0549 - val_categorical_accuracy: 0.9867\n",
      "Epoch 8/10\n",
      "797/797 [==============================] - 26s 32ms/step - loss: 0.0126 - categorical_accuracy: 0.9959 - val_loss: 0.0654 - val_categorical_accuracy: 0.9851\n",
      "Epoch 9/10\n",
      "797/797 [==============================] - 26s 33ms/step - loss: 0.0107 - categorical_accuracy: 0.9962 - val_loss: 0.0532 - val_categorical_accuracy: 0.9877\n",
      "Epoch 10/10\n",
      "797/797 [==============================] - 27s 34ms/step - loss: 0.0078 - categorical_accuracy: 0.9972 - val_loss: 0.0779 - val_categorical_accuracy: 0.9843\n"
     ]
    }
   ],
   "source": [
    "# split the train set to train & validation\n",
    "x_train, x_val, y_train, y_val = train_test_split(X_train,y_train, test_size=0.15, stratify=None)\n",
    "print('Train: X=%s, y=%s' % (x_train.shape, y_train.shape))\n",
    "print('Val: X=%s, y=%s' % (x_val.shape, y_val.shape))\n",
    "# one hot encode target values\n",
    "y_train = to_categorical(y_train)\n",
    "y_val = to_categorical(y_val)\n",
    "print(\"Fit model on training data\")\n",
    "history = nmist_class_model.fit(\n",
    "    x_train,\n",
    "    y_train,\n",
    "    batch_size=64,\n",
    "    epochs=10,\n",
    "    validation_data=(x_val, y_val))"
   ],
   "metadata": {
    "collapsed": false
   }
  },
  {
   "cell_type": "code",
   "execution_count": 59,
   "outputs": [
    {
     "name": "stdout",
     "output_type": "stream",
     "text": [
      "Evaluate on test data\n",
      "79/79 [==============================] - 1s 12ms/step - loss: 0.0627 - categorical_accuracy: 0.9863\n",
      "test loss, test acc: [0.06267518550157547, 0.986299991607666]\n"
     ]
    }
   ],
   "source": [
    "# Evaluate the model on the test data\n",
    "print(\"Evaluate on test data\")\n",
    "results = nmist_class_model.evaluate(X_test, to_categorical(y_test), batch_size=128)\n",
    "print(\"test loss, test acc:\", results)"
   ],
   "metadata": {
    "collapsed": false
   }
  },
  {
   "cell_type": "code",
   "execution_count": 61,
   "outputs": [
    {
     "name": "stderr",
     "output_type": "stream",
     "text": [
      "WARNING:absl:Found untraced functions such as _jit_compiled_convolution_op, _jit_compiled_convolution_op, _update_step_xla while saving (showing 3 of 3). These functions will not be directly callable after loading.\n"
     ]
    },
    {
     "name": "stdout",
     "output_type": "stream",
     "text": [
      "INFO:tensorflow:Assets written to: c:/model_checkpoints/mnist_classification_convnet\\assets\n"
     ]
    },
    {
     "name": "stderr",
     "output_type": "stream",
     "text": [
      "INFO:tensorflow:Assets written to: c:/model_checkpoints/mnist_classification_convnet\\assets\n"
     ]
    }
   ],
   "source": [
    "# save the model\n",
    "model_checkpoint_dir = \"c:/model_checkpoints/\"\n",
    "if os.path.isdir(model_checkpoint_dir) is not True:\n",
    "    os.mkdir(model_checkpoint_dir)\n",
    "model_path = os.path.join(model_checkpoint_dir,'mnist_classification_convnet')\n",
    "nmist_class_model.save(model_path)"
   ],
   "metadata": {
    "collapsed": false
   }
  }
 ],
 "metadata": {
  "kernelspec": {
   "display_name": "Python 3",
   "language": "python",
   "name": "python3"
  },
  "language_info": {
   "codemirror_mode": {
    "name": "ipython",
    "version": 2
   },
   "file_extension": ".py",
   "mimetype": "text/x-python",
   "name": "python",
   "nbconvert_exporter": "python",
   "pygments_lexer": "ipython2",
   "version": "2.7.6"
  }
 },
 "nbformat": 4,
 "nbformat_minor": 0
}
