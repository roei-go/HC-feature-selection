{
 "cells": [
  {
   "cell_type": "markdown",
   "source": [
    "#### Imports"
   ],
   "metadata": {
    "collapsed": false
   }
  },
  {
   "cell_type": "code",
   "execution_count": 1,
   "metadata": {
    "collapsed": true
   },
   "outputs": [],
   "source": [
    "from datasets import load_dataset\n",
    "import torch\n",
    "from transformers import AutoTokenizer\n",
    "import time\n",
    "from transformers import DistilBertTokenizer, DistilBertModel\n",
    "import os\n",
    "import numpy as np\n",
    "import pandas as pd\n",
    "from matplotlib import pyplot as plt\n",
    "from sklearn.model_selection import train_test_split\n",
    "from sklearn.metrics import accuracy_score\n",
    "from sklearn.svm import SVC\n",
    "from hyperopt import hp\n",
    "from scipy.stats import kruskal\n",
    "from lib.similarity import CentroidSimilarity\n",
    "from utils.hyper_parameters_tuning import model_hypopt\n",
    "from utils.experiment_utils import multiple_classifiers_fit_predict\n",
    "from utils.visualization import plot_hist\n",
    "from sklearn.neighbors import KNeighborsClassifier\n",
    "from lib.feature_selection import FeatureSelectionDiversityPursuitAnova,FeatureSelectionOneVsAllAnova,FeatureSelectionDiversityPursuitKruskal\n",
    "from lib.classifier_with_feature_selection import ClassifierFeatureSelection\n",
    "from utils.visualization import bar_plot_scores\n",
    "%load_ext autoreload\n",
    "%autoreload 2"
   ]
  },
  {
   "cell_type": "code",
   "execution_count": 2,
   "outputs": [
    {
     "name": "stdout",
     "output_type": "stream",
     "text": [
      "GPU Available: False\n",
      "Number of GPU Available: 0\n"
     ]
    }
   ],
   "source": [
    "print(\"GPU Available: {}\".format(torch.cuda.is_available()))\n",
    "n_gpu = torch.cuda.device_count()\n",
    "print(\"Number of GPU Available: {}\".format(n_gpu))\n"
   ],
   "metadata": {
    "collapsed": false
   }
  },
  {
   "cell_type": "code",
   "execution_count": 34,
   "outputs": [],
   "source": [
    "models_dir = \"c:/transformer_models/\"\n",
    "if os.path.isdir(models_dir) is not True:\n",
    "    os.mkdir(models_dir)"
   ],
   "metadata": {
    "collapsed": false
   }
  },
  {
   "cell_type": "markdown",
   "source": [
    "## Load the dataset"
   ],
   "metadata": {
    "collapsed": false
   }
  },
  {
   "cell_type": "markdown",
   "source": [
    "### IMDB dataset"
   ],
   "metadata": {
    "collapsed": false
   }
  },
  {
   "cell_type": "code",
   "execution_count": 3,
   "outputs": [
    {
     "name": "stderr",
     "output_type": "stream",
     "text": [
      "Found cached dataset imdb (C:/Users/rgolan/.cache/huggingface/datasets/imdb/plain_text/1.0.0/d613c88cf8fa3bab83b4ded3713f1f74830d1100e171db75bbddb80b3345c9c0)\n"
     ]
    },
    {
     "data": {
      "text/plain": "  0%|          | 0/3 [00:00<?, ?it/s]",
      "application/vnd.jupyter.widget-view+json": {
       "version_major": 2,
       "version_minor": 0,
       "model_id": "6f971a3b4f44432aa822acaae6fa6fa1"
      }
     },
     "metadata": {},
     "output_type": "display_data"
    }
   ],
   "source": [
    "imdb = load_dataset(\"imdb\")"
   ],
   "metadata": {
    "collapsed": false
   }
  },
  {
   "cell_type": "code",
   "execution_count": 4,
   "outputs": [],
   "source": [
    "# embed the sentences - take 500 negative samples and 500 positive samples. Note that in the IMDB set, the negative examples are in the first half of the dataset (0-12500)\n",
    "# the positive examples are in the second half\n",
    "num_sentences_to_embed = 1000\n",
    "neg_examples_idx = list(np.random.randint(low=0,high=12500,size=num_sentences_to_embed//2))\n",
    "pos_examples_idx = list(np.random.randint(low=12500,high=25000,size=num_sentences_to_embed//2))\n",
    "examples_to_embed_idx = neg_examples_idx + pos_examples_idx"
   ],
   "metadata": {
    "collapsed": false
   }
  },
  {
   "cell_type": "code",
   "execution_count": 5,
   "outputs": [
    {
     "name": "stdout",
     "output_type": "stream",
     "text": [
      "there are 1000 sentences in the training set\n"
     ]
    }
   ],
   "source": [
    "train_sentences = [imdb['train'][int(i)]['text'] for i in examples_to_embed_idx]\n",
    "train_labels = [imdb['train'][int(i)]['label'] for i in examples_to_embed_idx]\n",
    "print(f\"there are {len(train_sentences)} sentences in the training set\")"
   ],
   "metadata": {
    "collapsed": false
   }
  },
  {
   "cell_type": "markdown",
   "source": [
    "## Get embeddings"
   ],
   "metadata": {
    "collapsed": false
   }
  },
  {
   "cell_type": "markdown",
   "source": [
    "#### BERT embeddings"
   ],
   "metadata": {
    "collapsed": false
   }
  },
  {
   "cell_type": "code",
   "execution_count": 13,
   "outputs": [],
   "source": [
    "# initialize a tokenizer\n",
    "bert_tokenizer = AutoTokenizer.from_pretrained('bert-base-uncased')"
   ],
   "metadata": {
    "collapsed": false
   }
  },
  {
   "cell_type": "code",
   "execution_count": 14,
   "outputs": [
    {
     "name": "stderr",
     "output_type": "stream",
     "text": [
      "Some weights of the model checkpoint at bert-base-uncased were not used when initializing BertModel: ['cls.predictions.decoder.weight', 'cls.predictions.bias', 'cls.predictions.transform.dense.bias', 'cls.predictions.transform.LayerNorm.bias', 'cls.predictions.transform.LayerNorm.weight', 'cls.predictions.transform.dense.weight', 'cls.seq_relationship.weight', 'cls.seq_relationship.bias']\n",
      "- This IS expected if you are initializing BertModel from the checkpoint of a model trained on another task or with another architecture (e.g. initializing a BertForSequenceClassification model from a BertForPreTraining model).\n",
      "- This IS NOT expected if you are initializing BertModel from the checkpoint of a model that you expect to be exactly identical (initializing a BertForSequenceClassification model from a BertForSequenceClassification model).\n"
     ]
    }
   ],
   "source": [
    "from transformers import BertModel\n",
    "bert_model = BertModel.from_pretrained(\"bert-base-uncased\")"
   ],
   "metadata": {
    "collapsed": false
   }
  },
  {
   "cell_type": "code",
   "execution_count": 15,
   "outputs": [
    {
     "name": "stdout",
     "output_type": "stream",
     "text": [
      "embedding dimension = 768\n"
     ]
    },
    {
     "data": {
      "text/plain": "False"
     },
     "execution_count": 15,
     "metadata": {},
     "output_type": "execute_result"
    }
   ],
   "source": [
    "embed_dim = bert_model.config.hidden_size\n",
    "print(f\"embedding dimension = {embed_dim}\")\n",
    "bert_model.config.output_hidden_states"
   ],
   "metadata": {
    "collapsed": false
   }
  },
  {
   "cell_type": "code",
   "execution_count": 16,
   "outputs": [
    {
     "name": "stdout",
     "output_type": "stream",
     "text": [
      "processed 101 sentences\n",
      "so far, 45.7897 seconds passed \n",
      "\n",
      "\n",
      "processed 201 sentences\n",
      "so far, 89.3573 seconds passed \n",
      "\n",
      "\n",
      "processed 301 sentences\n",
      "so far, 135.1618 seconds passed \n",
      "\n",
      "\n",
      "processed 401 sentences\n",
      "so far, 183.8605 seconds passed \n",
      "\n",
      "\n",
      "processed 501 sentences\n",
      "so far, 230.6930 seconds passed \n",
      "\n",
      "\n",
      "processed 601 sentences\n",
      "so far, 274.4580 seconds passed \n",
      "\n",
      "\n",
      "processed 701 sentences\n",
      "so far, 319.8834 seconds passed \n",
      "\n",
      "\n",
      "processed 801 sentences\n",
      "so far, 362.6773 seconds passed \n",
      "\n",
      "\n",
      "processed 901 sentences\n",
      "so far, 408.3203 seconds passed \n",
      "\n",
      "\n"
     ]
    }
   ],
   "source": [
    "bert_embeddings = np.empty((num_sentences_to_embed,embed_dim))\n",
    "tic = time.perf_counter()\n",
    "for i in range(len(train_sentences)):\n",
    "    input = bert_tokenizer(train_sentences[i], padding=True, truncation=True, max_length=512, return_tensors=\"pt\")\n",
    "    with torch.no_grad():\n",
    "        output = bert_model(**input, output_hidden_states=True)\n",
    "    # as the sentence embedding we're taking the hidden state corresponding to the [CLS] token\n",
    "    bert_embeddings[i,:] = output.last_hidden_state[:,0,:].numpy()\n",
    "    if (i%100 == 0) and (i != 0):\n",
    "        toc = time.perf_counter()\n",
    "        print(f\"processed {(i+1)} sentences\")\n",
    "        print(f\"so far, {toc - tic:0.4f} seconds passed \\n\\n\")\n"
   ],
   "metadata": {
    "collapsed": false
   }
  },
  {
   "cell_type": "code",
   "execution_count": 17,
   "outputs": [
    {
     "name": "stdout",
     "output_type": "stream",
     "text": [
      "bert embeddings shape = (1000, 768)\n"
     ]
    }
   ],
   "source": [
    "print(f\"bert embeddings shape = {bert_embeddings.shape}\")"
   ],
   "metadata": {
    "collapsed": false
   }
  },
  {
   "cell_type": "markdown",
   "source": [
    "#### GPT2 embeddings"
   ],
   "metadata": {
    "collapsed": false
   }
  },
  {
   "cell_type": "code",
   "execution_count": 59,
   "outputs": [
    {
     "data": {
      "text/plain": "Downloading (…)lve/main/config.json:   0%|          | 0.00/665 [00:00<?, ?B/s]",
      "application/vnd.jupyter.widget-view+json": {
       "version_major": 2,
       "version_minor": 0,
       "model_id": "d25fa28c569946e59d5ee0cd74145d28"
      }
     },
     "metadata": {},
     "output_type": "display_data"
    },
    {
     "data": {
      "text/plain": "Downloading (…)olve/main/vocab.json:   0%|          | 0.00/1.04M [00:00<?, ?B/s]",
      "application/vnd.jupyter.widget-view+json": {
       "version_major": 2,
       "version_minor": 0,
       "model_id": "fee3682cab2c467db4fe6be60f5a2076"
      }
     },
     "metadata": {},
     "output_type": "display_data"
    },
    {
     "data": {
      "text/plain": "Downloading (…)olve/main/merges.txt:   0%|          | 0.00/456k [00:00<?, ?B/s]",
      "application/vnd.jupyter.widget-view+json": {
       "version_major": 2,
       "version_minor": 0,
       "model_id": "93439d11361f4126a5fd10742d3d6a1b"
      }
     },
     "metadata": {},
     "output_type": "display_data"
    },
    {
     "data": {
      "text/plain": "Downloading (…)/main/tokenizer.json:   0%|          | 0.00/1.36M [00:00<?, ?B/s]",
      "application/vnd.jupyter.widget-view+json": {
       "version_major": 2,
       "version_minor": 0,
       "model_id": "91e5f381c2e54a2ebd9090b7898d9b22"
      }
     },
     "metadata": {},
     "output_type": "display_data"
    },
    {
     "data": {
      "text/plain": "Downloading pytorch_model.bin:   0%|          | 0.00/548M [00:00<?, ?B/s]",
      "application/vnd.jupyter.widget-view+json": {
       "version_major": 2,
       "version_minor": 0,
       "model_id": "fd361550bb0d45ab9823a505170d0660"
      }
     },
     "metadata": {},
     "output_type": "display_data"
    }
   ],
   "source": [
    "from transformers import AutoTokenizer, GPT2Model\n",
    "gpt2_tokenizer = AutoTokenizer.from_pretrained(\"gpt2\", cache_dir=models_dir)\n",
    "gpt2_model = GPT2Model.from_pretrained(\"gpt2\", cache_dir=models_dir)"
   ],
   "metadata": {
    "collapsed": false
   }
  },
  {
   "cell_type": "code",
   "execution_count": 60,
   "outputs": [
    {
     "name": "stdout",
     "output_type": "stream",
     "text": [
      "embedding dimension = 768\n",
      "processed 101 sentences\n",
      "so far, 42.8582 seconds passed \n",
      "\n",
      "\n",
      "processed 201 sentences\n",
      "so far, 91.6387 seconds passed \n",
      "\n",
      "\n",
      "processed 301 sentences\n",
      "so far, 144.5270 seconds passed \n",
      "\n",
      "\n",
      "processed 401 sentences\n",
      "so far, 197.1737 seconds passed \n",
      "\n",
      "\n",
      "processed 501 sentences\n",
      "so far, 239.5497 seconds passed \n",
      "\n",
      "\n",
      "processed 601 sentences\n",
      "so far, 280.6733 seconds passed \n",
      "\n",
      "\n",
      "processed 701 sentences\n",
      "so far, 336.2474 seconds passed \n",
      "\n",
      "\n",
      "processed 801 sentences\n",
      "so far, 385.9106 seconds passed \n",
      "\n",
      "\n",
      "processed 901 sentences\n",
      "so far, 437.8520 seconds passed \n",
      "\n",
      "\n"
     ]
    }
   ],
   "source": [
    "embed_dim = gpt2_model.config.n_embd\n",
    "print(f\"embedding dimension = {embed_dim}\")\n",
    "gpt2_embeddings = np.empty((num_sentences_to_embed,embed_dim))\n",
    "tic = time.perf_counter()\n",
    "for i in range(len(train_sentences)):\n",
    "    input = gpt2_tokenizer(train_sentences[i], truncation=True, max_length=256,return_tensors=\"pt\")\n",
    "    with torch.no_grad():\n",
    "        output = gpt2_model(**input)\n",
    "    # with GPT2 embeddings, we take the mean of the hidden states of all tokens\n",
    "    gpt2_embeddings[i,:] = output.last_hidden_state[:,:,:].numpy().mean(axis=1)\n",
    "    if (i%100 == 0) and (i != 0):\n",
    "        toc = time.perf_counter()\n",
    "        print(f\"processed {(i+1)} sentences\")\n",
    "        print(f\"so far, {toc - tic:0.4f} seconds passed \\n\\n\")\n"
   ],
   "metadata": {
    "collapsed": false
   }
  },
  {
   "cell_type": "markdown",
   "source": [
    "#### XLNet embeddings"
   ],
   "metadata": {
    "collapsed": false
   }
  },
  {
   "cell_type": "code",
   "execution_count": 35,
   "outputs": [
    {
     "data": {
      "text/plain": "Downloading (…)lve/main/config.json:   0%|          | 0.00/760 [00:00<?, ?B/s]",
      "application/vnd.jupyter.widget-view+json": {
       "version_major": 2,
       "version_minor": 0,
       "model_id": "e976b5a55a4f4bf99b78010d5dfbf626"
      }
     },
     "metadata": {},
     "output_type": "display_data"
    },
    {
     "name": "stderr",
     "output_type": "stream",
     "text": [
      "C:\\python_venv\\transfer_learning_with_feature_selection_python_3_10\\lib\\site-packages\\huggingface_hub\\file_download.py:133: UserWarning: `huggingface_hub` cache-system uses symlinks by default to efficiently store duplicated files but your machine does not support them in C:\\Users\\rgolan\\.cache\\huggingface\\hub. Caching files will still work but in a degraded version that might require more space on your disk. This warning can be disabled by setting the `HF_HUB_DISABLE_SYMLINKS_WARNING` environment variable. For more details, see https://huggingface.co/docs/huggingface_hub/how-to-cache#limitations.\n",
      "To support symlinks on Windows, you either need to activate Developer Mode or to run Python as an administrator. In order to see activate developer mode, see this article: https://docs.microsoft.com/en-us/windows/apps/get-started/enable-your-device-for-development\n",
      "  warnings.warn(message)\n"
     ]
    },
    {
     "data": {
      "text/plain": "Downloading (…)ve/main/spiece.model:   0%|          | 0.00/798k [00:00<?, ?B/s]",
      "application/vnd.jupyter.widget-view+json": {
       "version_major": 2,
       "version_minor": 0,
       "model_id": "e9b91fa8c9f94d96ae57b3060eb8c1fc"
      }
     },
     "metadata": {},
     "output_type": "display_data"
    },
    {
     "data": {
      "text/plain": "Downloading (…)/main/tokenizer.json:   0%|          | 0.00/1.38M [00:00<?, ?B/s]",
      "application/vnd.jupyter.widget-view+json": {
       "version_major": 2,
       "version_minor": 0,
       "model_id": "28c9b6f5dd854abe887acdb9f084ad8e"
      }
     },
     "metadata": {},
     "output_type": "display_data"
    },
    {
     "data": {
      "text/plain": "Downloading (…)lve/main/config.json:   0%|          | 0.00/760 [00:00<?, ?B/s]",
      "application/vnd.jupyter.widget-view+json": {
       "version_major": 2,
       "version_minor": 0,
       "model_id": "0e0b4e4fbd6d4102aa71779ee22755d3"
      }
     },
     "metadata": {},
     "output_type": "display_data"
    },
    {
     "name": "stderr",
     "output_type": "stream",
     "text": [
      "C:\\python_venv\\transfer_learning_with_feature_selection_python_3_10\\lib\\site-packages\\huggingface_hub\\file_download.py:133: UserWarning: `huggingface_hub` cache-system uses symlinks by default to efficiently store duplicated files but your machine does not support them in C:\\transformer_models. Caching files will still work but in a degraded version that might require more space on your disk. This warning can be disabled by setting the `HF_HUB_DISABLE_SYMLINKS_WARNING` environment variable. For more details, see https://huggingface.co/docs/huggingface_hub/how-to-cache#limitations.\n",
      "To support symlinks on Windows, you either need to activate Developer Mode or to run Python as an administrator. In order to see activate developer mode, see this article: https://docs.microsoft.com/en-us/windows/apps/get-started/enable-your-device-for-development\n",
      "  warnings.warn(message)\n"
     ]
    },
    {
     "data": {
      "text/plain": "Downloading pytorch_model.bin:   0%|          | 0.00/467M [00:00<?, ?B/s]",
      "application/vnd.jupyter.widget-view+json": {
       "version_major": 2,
       "version_minor": 0,
       "model_id": "f86545b193f241a1abb1cc280ac3068c"
      }
     },
     "metadata": {},
     "output_type": "display_data"
    },
    {
     "name": "stderr",
     "output_type": "stream",
     "text": [
      "Some weights of the model checkpoint at xlnet-base-cased were not used when initializing XLNetModel: ['lm_loss.weight', 'lm_loss.bias']\n",
      "- This IS expected if you are initializing XLNetModel from the checkpoint of a model trained on another task or with another architecture (e.g. initializing a BertForSequenceClassification model from a BertForPreTraining model).\n",
      "- This IS NOT expected if you are initializing XLNetModel from the checkpoint of a model that you expect to be exactly identical (initializing a BertForSequenceClassification model from a BertForSequenceClassification model).\n"
     ]
    }
   ],
   "source": [
    "from transformers import XLNetModel\n",
    "\n",
    "xlnet_tokenizer = AutoTokenizer.from_pretrained(\"xlnet-base-cased\")\n",
    "xlnet_model = XLNetModel.from_pretrained(\"xlnet-base-cased\", cache_dir=models_dir)"
   ],
   "metadata": {
    "collapsed": false
   }
  },
  {
   "cell_type": "code",
   "execution_count": 40,
   "outputs": [
    {
     "name": "stdout",
     "output_type": "stream",
     "text": [
      "embedding dimension = 768\n"
     ]
    }
   ],
   "source": [
    "embed_dim = xlnet_model.config.hidden_size\n",
    "print(f\"embedding dimension = {embed_dim}\")"
   ],
   "metadata": {
    "collapsed": false
   }
  },
  {
   "cell_type": "code",
   "execution_count": 47,
   "outputs": [
    {
     "name": "stdout",
     "output_type": "stream",
     "text": [
      "processed 101 sentences\n",
      "so far, 48.9625 seconds passed \n",
      "\n",
      "\n",
      "processed 201 sentences\n",
      "so far, 103.2901 seconds passed \n",
      "\n",
      "\n",
      "processed 301 sentences\n",
      "so far, 166.6987 seconds passed \n",
      "\n",
      "\n",
      "processed 401 sentences\n",
      "so far, 224.0038 seconds passed \n",
      "\n",
      "\n",
      "processed 501 sentences\n",
      "so far, 283.0298 seconds passed \n",
      "\n",
      "\n",
      "processed 601 sentences\n",
      "so far, 338.2236 seconds passed \n",
      "\n",
      "\n",
      "processed 701 sentences\n",
      "so far, 391.2476 seconds passed \n",
      "\n",
      "\n",
      "processed 801 sentences\n",
      "so far, 439.1390 seconds passed \n",
      "\n",
      "\n",
      "processed 901 sentences\n",
      "so far, 495.7874 seconds passed \n",
      "\n",
      "\n"
     ]
    }
   ],
   "source": [
    "xlnet_embeddings = np.empty((num_sentences_to_embed,embed_dim))\n",
    "tic = time.perf_counter()\n",
    "for i in range(len(train_sentences)):\n",
    "    input = xlnet_tokenizer(train_sentences[i], truncation=True, max_length=256,return_tensors=\"pt\")\n",
    "    with torch.no_grad():\n",
    "        output = xlnet_model(**input)\n",
    "    xlnet_embeddings[i,:] = output.last_hidden_state[:,-1,:].numpy()\n",
    "    if (i%100 == 0) and (i != 0):\n",
    "        toc = time.perf_counter()\n",
    "        print(f\"processed {(i+1)} sentences\")\n",
    "        print(f\"so far, {toc - tic:0.4f} seconds passed \\n\\n\")"
   ],
   "metadata": {
    "collapsed": false
   }
  },
  {
   "cell_type": "markdown",
   "source": [
    "#### BART embeddings"
   ],
   "metadata": {
    "collapsed": false
   }
  },
  {
   "cell_type": "code",
   "execution_count": 25,
   "outputs": [
    {
     "name": "stdout",
     "output_type": "stream",
     "text": [
      "embedding dimension = 768\n"
     ]
    }
   ],
   "source": [
    "from transformers import AutoTokenizer, BartModel\n",
    "\n",
    "bart_tokenizer = AutoTokenizer.from_pretrained(\"facebook/bart-base\")\n",
    "bart_model = BartModel.from_pretrained(\"facebook/bart-base\")\n",
    "embed_dim = bart_model.config.hidden_size\n",
    "print(f\"embedding dimension = {embed_dim}\")"
   ],
   "metadata": {
    "collapsed": false
   }
  },
  {
   "cell_type": "code",
   "execution_count": 26,
   "outputs": [
    {
     "name": "stdout",
     "output_type": "stream",
     "text": [
      "processed 101 sentences\n",
      "so far, 39.4512 seconds passed \n",
      "\n",
      "\n",
      "processed 201 sentences\n",
      "so far, 78.4378 seconds passed \n",
      "\n",
      "\n",
      "processed 301 sentences\n",
      "so far, 123.5349 seconds passed \n",
      "\n",
      "\n",
      "processed 401 sentences\n",
      "so far, 171.9170 seconds passed \n",
      "\n",
      "\n",
      "processed 501 sentences\n",
      "so far, 212.9310 seconds passed \n",
      "\n",
      "\n",
      "processed 601 sentences\n",
      "so far, 251.1884 seconds passed \n",
      "\n",
      "\n",
      "processed 701 sentences\n",
      "so far, 301.0772 seconds passed \n",
      "\n",
      "\n",
      "processed 801 sentences\n",
      "so far, 346.4800 seconds passed \n",
      "\n",
      "\n",
      "processed 901 sentences\n",
      "so far, 392.7172 seconds passed \n",
      "\n",
      "\n"
     ]
    }
   ],
   "source": [
    "bart_embeddings = np.empty((num_sentences_to_embed,embed_dim))\n",
    "tic = time.perf_counter()\n",
    "for i in range(len(train_sentences)):\n",
    "    input = bart_tokenizer(train_sentences[i], truncation=True, max_length=256,return_tensors=\"pt\")\n",
    "    with torch.no_grad():\n",
    "        output = bart_model(**input)\n",
    "    bart_embeddings[i,:] = output.last_hidden_state[:,:,:].numpy().mean(axis=1)\n",
    "    if (i%100 == 0) and (i != 0):\n",
    "        toc = time.perf_counter()\n",
    "        print(f\"processed {(i+1)} sentences\")\n",
    "        print(f\"so far, {toc - tic:0.4f} seconds passed \\n\\n\")\n"
   ],
   "metadata": {
    "collapsed": false
   }
  },
  {
   "cell_type": "markdown",
   "source": [
    "## Classification of embedded test"
   ],
   "metadata": {
    "collapsed": false
   }
  },
  {
   "cell_type": "code",
   "execution_count": 61,
   "outputs": [
    {
     "name": "stdout",
     "output_type": "stream",
     "text": [
      "X shape = (1000, 768)\n"
     ]
    }
   ],
   "source": [
    "embed_list = [gpt2_embeddings]\n",
    "X = np.concatenate(embed_list,axis=1)\n",
    "print(f\"X shape = {X.shape}\")"
   ],
   "metadata": {
    "collapsed": false
   }
  },
  {
   "cell_type": "code",
   "execution_count": 62,
   "outputs": [],
   "source": [
    "y = np.array(train_labels)"
   ],
   "metadata": {
    "collapsed": false
   }
  },
  {
   "cell_type": "code",
   "execution_count": 63,
   "outputs": [
    {
     "name": "stdout",
     "output_type": "stream",
     "text": [
      "100%|██████████| 50/50 [00:51<00:00,  1.02s/trial, best loss: -0.842]             \n",
      "best_params = {'C': 0.19197108191310136, 'degree': 1, 'kernel': 'linear'}\n"
     ]
    }
   ],
   "source": [
    "# optimize a SVM classifier to the train data\n",
    "svm_search_space = {'C' : hp.uniform('C',0.1,10),\n",
    "                        'kernel': hp.choice('kernel',['linear', 'poly', 'rbf', 'sigmoid']),\n",
    "                        'degree' : hp.choice('degree',list(range(1,10)))}\n",
    "\n",
    "hyper_opt = model_hypopt(model=SVC,param_space=svm_search_space,X_train=X, y_train=y, iterations=50)\n",
    "best_params = hyper_opt.run()\n",
    "print(f\"best_params = {best_params}\")"
   ],
   "metadata": {
    "collapsed": false
   }
  },
  {
   "cell_type": "code",
   "execution_count": 64,
   "outputs": [
    {
     "name": "stdout",
     "output_type": "stream",
     "text": [
      "Measuring accuracy with 2 classes,  5 training examples per class\n",
      "---------------------------------------------------------------\n",
      "In classifier with feature selector FeatureSelectionDiversityPursuitAnova no features were selected and classifier will not be fitted to data - will predict at random!\n",
      "In classifier with feature selector FeatureSelectionOneVsAllAnova no features were selected and classifier will not be fitted to data - will predict at random!\n",
      "In classifier with feature selector FeatureSelectionDiversityPursuitAnova no features were selected and classifier will not be fitted to data - will predict at random!\n",
      "In classifier with feature selector FeatureSelectionOneVsAllAnova no features were selected and classifier will not be fitted to data - will predict at random!\n",
      "classifier cs_cls, mean accuracy is 0.5, std accuracy is 0.0\n",
      "classifier cs_fs_dp, mean accuracy is 0.5913131313131313, std accuracy is 0.0631095720139804\n",
      "classifier cs_fs_ova, mean accuracy is 0.5904040404040404, std accuracy is 0.06483849320426793\n",
      "classifier knn_cls, mean accuracy is 0.5045252525252525, std accuracy is 0.030089646014295097\n",
      "classifier knn_fs_dp, mean accuracy is 0.5733535353535353, std accuracy is 0.05272335989196944\n",
      "classifier knn_fs_ova, mean accuracy is 0.5734141414141414, std accuracy is 0.05266044761087098\n",
      "classifier svm, mean accuracy is 0.5606464646464646, std accuracy is 0.04350380163923155\n",
      "\n",
      "\n",
      "\n",
      "\n",
      "Measuring accuracy with 2 classes,  10 training examples per class\n",
      "---------------------------------------------------------------\n",
      "classifier cs_cls, mean accuracy is 0.5, std accuracy is 0.0\n",
      "classifier cs_fs_dp, mean accuracy is 0.6145918367346939, std accuracy is 0.08303746588954751\n",
      "classifier cs_fs_ova, mean accuracy is 0.6145918367346939, std accuracy is 0.08303746588954751\n",
      "classifier knn_cls, mean accuracy is 0.5178775510204082, std accuracy is 0.022504791474638262\n",
      "classifier knn_fs_dp, mean accuracy is 0.6068979591836734, std accuracy is 0.06411397857770872\n",
      "classifier knn_fs_ova, mean accuracy is 0.6068979591836734, std accuracy is 0.06411397857770872\n",
      "classifier svm, mean accuracy is 0.6252244897959184, std accuracy is 0.04709072123736862\n",
      "\n",
      "\n",
      "\n",
      "\n",
      "Measuring accuracy with 2 classes,  20 training examples per class\n",
      "---------------------------------------------------------------\n",
      "classifier cs_cls, mean accuracy is 0.5, std accuracy is 0.0\n",
      "classifier cs_fs_dp, mean accuracy is 0.64825, std accuracy is 0.08566590669247856\n",
      "classifier cs_fs_ova, mean accuracy is 0.64825, std accuracy is 0.08566590669247856\n",
      "classifier knn_cls, mean accuracy is 0.522875, std accuracy is 0.02360698901926198\n",
      "classifier knn_fs_dp, mean accuracy is 0.6458333333333333, std accuracy is 0.06721841988787168\n",
      "classifier knn_fs_ova, mean accuracy is 0.6458333333333333, std accuracy is 0.06721841988787168\n",
      "classifier svm, mean accuracy is 0.6973125, std accuracy is 0.035589096186347736\n",
      "\n",
      "\n",
      "\n",
      "\n",
      "Measuring accuracy with 2 classes,  50 training examples per class\n",
      "---------------------------------------------------------------\n",
      "classifier cs_cls, mean accuracy is 0.5, std accuracy is 0.0\n",
      "classifier cs_fs_dp, mean accuracy is 0.7186222222222224, std accuracy is 0.06830127884130739\n",
      "classifier cs_fs_ova, mean accuracy is 0.7186222222222224, std accuracy is 0.06830127884130739\n",
      "classifier knn_cls, mean accuracy is 0.5466666666666666, std accuracy is 0.01973153144926499\n",
      "classifier knn_fs_dp, mean accuracy is 0.7061777777777776, std accuracy is 0.05081127511696932\n",
      "classifier knn_fs_ova, mean accuracy is 0.7061777777777776, std accuracy is 0.05081127511696932\n",
      "classifier svm, mean accuracy is 0.7653555555555556, std accuracy is 0.026301847092815123\n",
      "\n",
      "\n",
      "\n",
      "\n"
     ]
    },
    {
     "data": {
      "text/plain": "<Figure size 1200x600 with 1 Axes>",
      "image/png": "[encoded data removed]"
     },
     "metadata": {},
     "output_type": "display_data"
    },
    {
     "data": {
      "text/plain": "<Figure size 1200x600 with 1 Axes>",
      "image/png": "[encoded data removed]"
     },
     "metadata": {},
     "output_type": "display_data"
    }
   ],
   "source": [
    "from lib.feature_selection import FeatureSelectionDiversityPursuitAnova,FeatureSelectionOneVsAllAnova\n",
    "gamma = 0.2\n",
    "train_sizes = [5,10,20,50]\n",
    "# define feature selectors\n",
    "dp_fs = FeatureSelectionDiversityPursuitAnova(hc_gamma=gamma)\n",
    "ova_fs = FeatureSelectionOneVsAllAnova(hc_gamma=gamma)\n",
    "# defining classifiers\n",
    "cs_cls  = CentroidSimilarity()\n",
    "cs_fs_dp = ClassifierFeatureSelection(CentroidSimilarity(), dp_fs)\n",
    "cs_fs_ova = ClassifierFeatureSelection(CentroidSimilarity(), ova_fs)\n",
    "knn_cls = KNeighborsClassifier(n_neighbors=train_sizes[0])\n",
    "knn_fs_dp = ClassifierFeatureSelection(knn_cls, dp_fs)\n",
    "knn_fs_ova = ClassifierFeatureSelection(knn_cls, ova_fs)\n",
    "svm_cls = SVC(**best_params)\n",
    "classifiers = [cs_cls, cs_fs_dp, cs_fs_ova, knn_cls, knn_fs_dp, knn_fs_ova, svm_cls]\n",
    "bar_labels = ['cs_cls', 'cs_fs_dp', 'cs_fs_ova', 'knn_cls', 'knn_fs_dp', 'knn_fs_ova', 'svm']\n",
    "num_experiments = 50\n",
    "num_splits = 5\n",
    "# define possible sizes for the train set (number of train examples per class)\n",
    "num_classes = 2\n",
    "accuracies = np.empty((len(classifiers),len(train_sizes),num_experiments))\n",
    "accuracies_w_noise = np.empty((len(classifiers),len(train_sizes),num_experiments))\n",
    "num_features = np.empty((len(classifiers),len(train_sizes),num_experiments))\n",
    "num_features_w_noise = np.empty((len(classifiers),len(train_sizes),num_experiments))\n",
    "\n",
    "for i in range(len(train_sizes)):\n",
    "    print(f\"Measuring accuracy with {num_classes} classes,  {train_sizes[i]} training examples per class\")\n",
    "    print(\"---------------------------------------------------------------\")\n",
    "    for j in range(num_experiments):\n",
    "        X_train, X_test, y_train, y_test = train_test_split(X, y, train_size=train_sizes[i]*num_classes, stratify=y)\n",
    "        accuracies[:,i,j], num_features[:,i,j] = multiple_classifiers_fit_predict(classifiers=classifiers,\n",
    "                                                                                              X_train=X_train,\n",
    "                                                                                              y_train=y_train,\n",
    "                                                                                              X_test=X_test,\n",
    "                                                                                              y_test=y_test)\n",
    "    for l in range(len(classifiers)):\n",
    "        print(f\"classifier {bar_labels[l]}, mean accuracy is {np.mean(accuracies[l,i,:])}, std accuracy is {np.std(accuracies[l,i,:])}\")\n",
    "    print(\"\\n\\n\\n\")\n",
    "\n",
    "bar_plot_scores(scores=np.mean(accuracies,axis=2),\n",
    "                bar_labels=bar_labels,\n",
    "                xticklabels=train_sizes,\n",
    "                xlabel='train_size',\n",
    "                ylabel='accuracy',\n",
    "                title=f'accuracy vs. train size for {num_classes} classes')\n",
    "\n",
    "bar_plot_scores(scores=np.mean(num_features,axis=2),\n",
    "                bar_labels=bar_labels,\n",
    "                xticklabels=train_sizes,\n",
    "                xlabel='train_size',\n",
    "                ylabel='number of features',\n",
    "                title=f'number of selected features vs. train size for {num_classes} classes')"
   ],
   "metadata": {
    "collapsed": false
   }
  }
 ],
 "metadata": {
  "kernelspec": {
   "display_name": "Python 3",
   "language": "python",
   "name": "python3"
  },
  "language_info": {
   "codemirror_mode": {
    "name": "ipython",
    "version": 2
   },
   "file_extension": ".py",
   "mimetype": "text/x-python",
   "name": "python",
   "nbconvert_exporter": "python",
   "pygments_lexer": "ipython2",
   "version": "2.7.6"
  }
 },
 "nbformat": 4,
 "nbformat_minor": 0
}
