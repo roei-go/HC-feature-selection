{
 "cells": [
  {
   "cell_type": "markdown",
   "source": [
    "#### Imports"
   ],
   "metadata": {
    "collapsed": false
   }
  },
  {
   "cell_type": "code",
   "execution_count": 1,
   "metadata": {
    "collapsed": true
   },
   "outputs": [],
   "source": [
    "from datasets import load_dataset\n",
    "import torch\n",
    "from transformers import AutoTokenizer\n",
    "import time\n",
    "from transformers import DistilBertTokenizer, DistilBertModel\n",
    "import os\n",
    "import numpy as np\n",
    "import pandas as pd\n",
    "from matplotlib import pyplot as plt\n",
    "from sklearn.model_selection import train_test_split\n",
    "from sklearn.metrics import accuracy_score\n",
    "from sklearn.svm import SVC\n",
    "from hyperopt import hp\n",
    "from scipy.stats import kruskal\n",
    "from lib.similarity import CentroidSimilarity\n",
    "from utils.hyper_parameters_tuning import model_hypopt\n",
    "from utils.experiment_utils import multiple_classifiers_fit_predict\n",
    "from utils.visualization import plot_hist\n",
    "from sklearn.neighbors import KNeighborsClassifier\n",
    "from lib.feature_selection import FeatureSelectionDiversityPursuitAnova,FeatureSelectionOneVsAllAnova,FeatureSelectionDiversityPursuitKruskal\n",
    "from lib.classifier_with_feature_selection import ClassifierFeatureSelection\n",
    "from utils.visualization import bar_plot_scores\n",
    "%load_ext autoreload\n",
    "%autoreload 2"
   ]
  },
  {
   "cell_type": "code",
   "execution_count": 2,
   "outputs": [
    {
     "name": "stdout",
     "output_type": "stream",
     "text": [
      "GPU Available: False\n",
      "Number of GPU Available: 0\n"
     ]
    }
   ],
   "source": [
    "print(\"GPU Available: {}\".format(torch.cuda.is_available()))\n",
    "n_gpu = torch.cuda.device_count()\n",
    "print(\"Number of GPU Available: {}\".format(n_gpu))\n"
   ],
   "metadata": {
    "collapsed": false
   }
  },
  {
   "cell_type": "code",
   "execution_count": 34,
   "outputs": [],
   "source": [
    "models_dir = \"c:/transformer_models/\"\n",
    "if os.path.isdir(models_dir) is not True:\n",
    "    os.mkdir(models_dir)"
   ],
   "metadata": {
    "collapsed": false
   }
  },
  {
   "cell_type": "markdown",
   "source": [
    "## Load the dataset"
   ],
   "metadata": {
    "collapsed": false
   }
  },
  {
   "cell_type": "markdown",
   "source": [
    "#### IMDB dataset"
   ],
   "metadata": {
    "collapsed": false
   }
  },
  {
   "cell_type": "code",
   "execution_count": 3,
   "outputs": [
    {
     "name": "stderr",
     "output_type": "stream",
     "text": [
      "Found cached dataset imdb (C:/Users/rgolan/.cache/huggingface/datasets/imdb/plain_text/1.0.0/d613c88cf8fa3bab83b4ded3713f1f74830d1100e171db75bbddb80b3345c9c0)\n"
     ]
    },
    {
     "data": {
      "text/plain": "  0%|          | 0/3 [00:00<?, ?it/s]",
      "application/vnd.jupyter.widget-view+json": {
       "version_major": 2,
       "version_minor": 0,
       "model_id": "6f971a3b4f44432aa822acaae6fa6fa1"
      }
     },
     "metadata": {},
     "output_type": "display_data"
    }
   ],
   "source": [
    "imdb = load_dataset(\"imdb\")"
   ],
   "metadata": {
    "collapsed": false
   }
  },
  {
   "cell_type": "code",
   "execution_count": 4,
   "outputs": [],
   "source": [
    "# embed the sentences - take 500 negative samples and 500 positive samples. Note that in the IMDB set, the negative examples are in the first half of the dataset (0-12500)\n",
    "# the positive examples are in the second half\n",
    "num_sentences_to_embed = 1000\n",
    "neg_examples_idx = list(np.random.randint(low=0,high=12500,size=num_sentences_to_embed//2))\n",
    "pos_examples_idx = list(np.random.randint(low=12500,high=25000,size=num_sentences_to_embed//2))\n",
    "examples_to_embed_idx = neg_examples_idx + pos_examples_idx"
   ],
   "metadata": {
    "collapsed": false
   }
  },
  {
   "cell_type": "code",
   "execution_count": 5,
   "outputs": [
    {
     "name": "stdout",
     "output_type": "stream",
     "text": [
      "there are 1000 sentences in the training set\n"
     ]
    }
   ],
   "source": [
    "train_sentences = [imdb['train'][int(i)]['text'] for i in examples_to_embed_idx]\n",
    "train_labels = [imdb['train'][int(i)]['label'] for i in examples_to_embed_idx]\n",
    "print(f\"there are {len(train_sentences)} sentences in the training set\")"
   ],
   "metadata": {
    "collapsed": false
   }
  },
  {
   "cell_type": "markdown",
   "source": [
    "#### AG-News dataset"
   ],
   "metadata": {
    "collapsed": false
   }
  },
  {
   "cell_type": "code",
   "execution_count": 65,
   "outputs": [
    {
     "data": {
      "text/plain": "Downloading builder script:   0%|          | 0.00/4.06k [00:00<?, ?B/s]",
      "application/vnd.jupyter.widget-view+json": {
       "version_major": 2,
       "version_minor": 0,
       "model_id": "b2265c9462c84f2595ce3040ed02ee02"
      }
     },
     "metadata": {},
     "output_type": "display_data"
    },
    {
     "data": {
      "text/plain": "Downloading metadata:   0%|          | 0.00/2.65k [00:00<?, ?B/s]",
      "application/vnd.jupyter.widget-view+json": {
       "version_major": 2,
       "version_minor": 0,
       "model_id": "21dad7d358194fb5b89937251944791a"
      }
     },
     "metadata": {},
     "output_type": "display_data"
    },
    {
     "data": {
      "text/plain": "Downloading readme:   0%|          | 0.00/7.95k [00:00<?, ?B/s]",
      "application/vnd.jupyter.widget-view+json": {
       "version_major": 2,
       "version_minor": 0,
       "model_id": "236245e436ee480d958dcfafc7f6da9b"
      }
     },
     "metadata": {},
     "output_type": "display_data"
    },
    {
     "name": "stdout",
     "output_type": "stream",
     "text": [
      "Downloading and preparing dataset ag_news/default to C:/Users/rgolan/.cache/huggingface/datasets/ag_news/default/0.0.0/bc2bcb40336ace1a0374767fc29bb0296cdaf8a6da7298436239c54d79180548...\n"
     ]
    },
    {
     "data": {
      "text/plain": "Downloading data:   0%|          | 0.00/11.0M [00:00<?, ?B/s]",
      "application/vnd.jupyter.widget-view+json": {
       "version_major": 2,
       "version_minor": 0,
       "model_id": "331d6483e6214bb390933efce2116182"
      }
     },
     "metadata": {},
     "output_type": "display_data"
    },
    {
     "data": {
      "text/plain": "Downloading data:   0%|          | 0.00/751k [00:00<?, ?B/s]",
      "application/vnd.jupyter.widget-view+json": {
       "version_major": 2,
       "version_minor": 0,
       "model_id": "e705ec5c3b884778979dde7df76690ed"
      }
     },
     "metadata": {},
     "output_type": "display_data"
    },
    {
     "data": {
      "text/plain": "Generating train split:   0%|          | 0/120000 [00:00<?, ? examples/s]",
      "application/vnd.jupyter.widget-view+json": {
       "version_major": 2,
       "version_minor": 0,
       "model_id": "26ee56b3380e42eeaae5c92ab75f5d3e"
      }
     },
     "metadata": {},
     "output_type": "display_data"
    },
    {
     "data": {
      "text/plain": "Generating test split:   0%|          | 0/7600 [00:00<?, ? examples/s]",
      "application/vnd.jupyter.widget-view+json": {
       "version_major": 2,
       "version_minor": 0,
       "model_id": "57c55a5c73d4475790447f7e8ec22916"
      }
     },
     "metadata": {},
     "output_type": "display_data"
    },
    {
     "name": "stdout",
     "output_type": "stream",
     "text": [
      "Dataset ag_news downloaded and prepared to C:/Users/rgolan/.cache/huggingface/datasets/ag_news/default/0.0.0/bc2bcb40336ace1a0374767fc29bb0296cdaf8a6da7298436239c54d79180548. Subsequent calls will reuse this data.\n"
     ]
    },
    {
     "data": {
      "text/plain": "  0%|          | 0/2 [00:00<?, ?it/s]",
      "application/vnd.jupyter.widget-view+json": {
       "version_major": 2,
       "version_minor": 0,
       "model_id": "b8d9d876ac1e4226bc7efc266baeaf31"
      }
     },
     "metadata": {},
     "output_type": "display_data"
    }
   ],
   "source": [
    "ag_news_ds = load_dataset(\"ag_news\")"
   ],
   "metadata": {
    "collapsed": false
   }
  },
  {
   "cell_type": "code",
   "execution_count": 70,
   "outputs": [],
   "source": [
    "num_sentences_to_embed = 2000\n",
    "all_labels = np.array([ag_news_ds['train'][int(i)]['label'] for i in range(len(ag_news_ds['train']))])\n",
    "all_idx = np.arange(len(ag_news_ds['train']))\n",
    "train_idx, test_idx, train_labels, test_labels = train_test_split(all_idx, all_labels, train_size=num_sentences_to_embed, stratify=all_labels)"
   ],
   "metadata": {
    "collapsed": false
   }
  },
  {
   "cell_type": "code",
   "execution_count": 79,
   "outputs": [],
   "source": [
    "train_sentences = [ag_news_ds['train'][int(train_idx[i])]['text'] for i in range(train_idx.shape[0])]"
   ],
   "metadata": {
    "collapsed": false
   }
  },
  {
   "cell_type": "code",
   "execution_count": 84,
   "outputs": [
    {
     "name": "stdout",
     "output_type": "stream",
     "text": [
      "Rapper practices with USC football team USC #39;s football team may be in the hunt for one of the two coveted spots in the national championship game, but that doesn #39;t mean the Trojans aren #39;t trying to enjoy the ride to a possible Orange Bowl berth. 1\n"
     ]
    }
   ],
   "source": [
    "i = 1000\n",
    "print(train_sentences[i], train_labels[i])"
   ],
   "metadata": {
    "collapsed": false
   }
  },
  {
   "cell_type": "markdown",
   "source": [
    "## Get embeddings"
   ],
   "metadata": {
    "collapsed": false
   }
  },
  {
   "cell_type": "markdown",
   "source": [
    "#### BERT embeddings"
   ],
   "metadata": {
    "collapsed": false
   }
  },
  {
   "cell_type": "code",
   "execution_count": 86,
   "outputs": [
    {
     "data": {
      "text/plain": "Downloading (…)okenizer_config.json:   0%|          | 0.00/28.0 [00:00<?, ?B/s]",
      "application/vnd.jupyter.widget-view+json": {
       "version_major": 2,
       "version_minor": 0,
       "model_id": "6218683251424e57913dc884455b1b47"
      }
     },
     "metadata": {},
     "output_type": "display_data"
    },
    {
     "data": {
      "text/plain": "Downloading (…)lve/main/config.json:   0%|          | 0.00/570 [00:00<?, ?B/s]",
      "application/vnd.jupyter.widget-view+json": {
       "version_major": 2,
       "version_minor": 0,
       "model_id": "de29ae26dd0a456e86b229f9a4c58cbe"
      }
     },
     "metadata": {},
     "output_type": "display_data"
    },
    {
     "data": {
      "text/plain": "Downloading (…)solve/main/vocab.txt:   0%|          | 0.00/232k [00:00<?, ?B/s]",
      "application/vnd.jupyter.widget-view+json": {
       "version_major": 2,
       "version_minor": 0,
       "model_id": "2fa9e28022ea49b9bcbad5bc1d07ec13"
      }
     },
     "metadata": {},
     "output_type": "display_data"
    },
    {
     "data": {
      "text/plain": "Downloading (…)/main/tokenizer.json:   0%|          | 0.00/466k [00:00<?, ?B/s]",
      "application/vnd.jupyter.widget-view+json": {
       "version_major": 2,
       "version_minor": 0,
       "model_id": "9bb88988e10b4ab68a05dcdc5b674a00"
      }
     },
     "metadata": {},
     "output_type": "display_data"
    }
   ],
   "source": [
    "# initialize a tokenizer\n",
    "bert_tokenizer = AutoTokenizer.from_pretrained('bert-base-uncased', cache_dir=models_dir)"
   ],
   "metadata": {
    "collapsed": false
   }
  },
  {
   "cell_type": "code",
   "execution_count": 87,
   "outputs": [
    {
     "data": {
      "text/plain": "Downloading pytorch_model.bin:   0%|          | 0.00/440M [00:00<?, ?B/s]",
      "application/vnd.jupyter.widget-view+json": {
       "version_major": 2,
       "version_minor": 0,
       "model_id": "029c90fca90b4d36b017679d07f7021b"
      }
     },
     "metadata": {},
     "output_type": "display_data"
    },
    {
     "name": "stderr",
     "output_type": "stream",
     "text": [
      "Some weights of the model checkpoint at bert-base-uncased were not used when initializing BertModel: ['cls.predictions.decoder.weight', 'cls.predictions.bias', 'cls.predictions.transform.dense.bias', 'cls.predictions.transform.LayerNorm.bias', 'cls.predictions.transform.LayerNorm.weight', 'cls.predictions.transform.dense.weight', 'cls.seq_relationship.weight', 'cls.seq_relationship.bias']\n",
      "- This IS expected if you are initializing BertModel from the checkpoint of a model trained on another task or with another architecture (e.g. initializing a BertForSequenceClassification model from a BertForPreTraining model).\n",
      "- This IS NOT expected if you are initializing BertModel from the checkpoint of a model that you expect to be exactly identical (initializing a BertForSequenceClassification model from a BertForSequenceClassification model).\n"
     ]
    }
   ],
   "source": [
    "from transformers import BertModel\n",
    "bert_model = BertModel.from_pretrained(\"bert-base-uncased\", cache_dir=models_dir)"
   ],
   "metadata": {
    "collapsed": false
   }
  },
  {
   "cell_type": "code",
   "execution_count": 88,
   "outputs": [
    {
     "name": "stdout",
     "output_type": "stream",
     "text": [
      "embedding dimension = 768\n"
     ]
    }
   ],
   "source": [
    "embed_dim = bert_model.config.hidden_size\n",
    "print(f\"embedding dimension = {embed_dim}\")\n",
    "bert_model.config.output_hidden_states = True"
   ],
   "metadata": {
    "collapsed": false
   }
  },
  {
   "cell_type": "code",
   "execution_count": 89,
   "outputs": [
    {
     "name": "stdout",
     "output_type": "stream",
     "text": [
      "processed 101 sentences\n",
      "so far, 7.3177 seconds passed \n",
      "\n",
      "\n",
      "processed 201 sentences\n",
      "so far, 16.6009 seconds passed \n",
      "\n",
      "\n",
      "processed 301 sentences\n",
      "so far, 25.5561 seconds passed \n",
      "\n",
      "\n",
      "processed 401 sentences\n",
      "so far, 34.7508 seconds passed \n",
      "\n",
      "\n",
      "processed 501 sentences\n",
      "so far, 43.7885 seconds passed \n",
      "\n",
      "\n",
      "processed 601 sentences\n",
      "so far, 55.2849 seconds passed \n",
      "\n",
      "\n",
      "processed 701 sentences\n",
      "so far, 65.9478 seconds passed \n",
      "\n",
      "\n",
      "processed 801 sentences\n",
      "so far, 77.1241 seconds passed \n",
      "\n",
      "\n",
      "processed 901 sentences\n",
      "so far, 88.5237 seconds passed \n",
      "\n",
      "\n",
      "processed 1001 sentences\n",
      "so far, 98.0746 seconds passed \n",
      "\n",
      "\n",
      "processed 1101 sentences\n",
      "so far, 107.0748 seconds passed \n",
      "\n",
      "\n",
      "processed 1201 sentences\n",
      "so far, 116.4722 seconds passed \n",
      "\n",
      "\n",
      "processed 1301 sentences\n",
      "so far, 125.5085 seconds passed \n",
      "\n",
      "\n",
      "processed 1401 sentences\n",
      "so far, 134.5890 seconds passed \n",
      "\n",
      "\n",
      "processed 1501 sentences\n",
      "so far, 143.4401 seconds passed \n",
      "\n",
      "\n",
      "processed 1601 sentences\n",
      "so far, 152.9872 seconds passed \n",
      "\n",
      "\n",
      "processed 1701 sentences\n",
      "so far, 165.2777 seconds passed \n",
      "\n",
      "\n",
      "processed 1801 sentences\n",
      "so far, 175.7198 seconds passed \n",
      "\n",
      "\n",
      "processed 1901 sentences\n",
      "so far, 186.8224 seconds passed \n",
      "\n",
      "\n"
     ]
    }
   ],
   "source": [
    "bert_embeddings = np.empty((num_sentences_to_embed,embed_dim))\n",
    "tic = time.perf_counter()\n",
    "for i in range(len(train_sentences)):\n",
    "    input = bert_tokenizer(train_sentences[i], padding=True, truncation=True, max_length=256, return_tensors=\"pt\")\n",
    "    with torch.no_grad():\n",
    "        output = bert_model(**input)\n",
    "    # as the sentence embedding we're taking the hidden state corresponding to the [CLS] token\n",
    "    bert_embeddings[i,:] = output.last_hidden_state[:,0,:].numpy()\n",
    "    if (i%100 == 0) and (i != 0):\n",
    "        toc = time.perf_counter()\n",
    "        print(f\"processed {(i+1)} sentences\")\n",
    "        print(f\"so far, {toc - tic:0.4f} seconds passed \\n\\n\")\n"
   ],
   "metadata": {
    "collapsed": false
   }
  },
  {
   "cell_type": "code",
   "execution_count": 90,
   "outputs": [
    {
     "name": "stdout",
     "output_type": "stream",
     "text": [
      "bert embeddings shape = (2000, 768)\n"
     ]
    }
   ],
   "source": [
    "print(f\"bert embeddings shape = {bert_embeddings.shape}\")"
   ],
   "metadata": {
    "collapsed": false
   }
  },
  {
   "cell_type": "markdown",
   "source": [
    "#### GPT2 embeddings"
   ],
   "metadata": {
    "collapsed": false
   }
  },
  {
   "cell_type": "code",
   "execution_count": 95,
   "outputs": [],
   "source": [
    "from transformers import AutoTokenizer, GPT2Model\n",
    "gpt2_tokenizer = AutoTokenizer.from_pretrained(\"gpt2\", cache_dir=models_dir)\n",
    "gpt2_model = GPT2Model.from_pretrained(\"gpt2\", cache_dir=models_dir)"
   ],
   "metadata": {
    "collapsed": false
   }
  },
  {
   "cell_type": "code",
   "execution_count": 96,
   "outputs": [
    {
     "name": "stdout",
     "output_type": "stream",
     "text": [
      "embedding dimension = 768\n",
      "processed 101 sentences\n",
      "so far, 7.9885 seconds passed \n",
      "\n",
      "\n",
      "processed 201 sentences\n",
      "so far, 16.8382 seconds passed \n",
      "\n",
      "\n",
      "processed 301 sentences\n",
      "so far, 28.4606 seconds passed \n",
      "\n",
      "\n",
      "processed 401 sentences\n",
      "so far, 40.0196 seconds passed \n",
      "\n",
      "\n",
      "processed 501 sentences\n",
      "so far, 51.9748 seconds passed \n",
      "\n",
      "\n",
      "processed 601 sentences\n",
      "so far, 63.1657 seconds passed \n",
      "\n",
      "\n",
      "processed 701 sentences\n",
      "so far, 71.9059 seconds passed \n",
      "\n",
      "\n",
      "processed 801 sentences\n",
      "so far, 80.9971 seconds passed \n",
      "\n",
      "\n",
      "processed 901 sentences\n",
      "so far, 90.0706 seconds passed \n",
      "\n",
      "\n",
      "processed 1001 sentences\n",
      "so far, 99.3141 seconds passed \n",
      "\n",
      "\n",
      "processed 1101 sentences\n",
      "so far, 110.6163 seconds passed \n",
      "\n",
      "\n",
      "processed 1201 sentences\n",
      "so far, 123.6310 seconds passed \n",
      "\n",
      "\n",
      "processed 1301 sentences\n",
      "so far, 134.7704 seconds passed \n",
      "\n",
      "\n",
      "processed 1401 sentences\n",
      "so far, 145.3974 seconds passed \n",
      "\n",
      "\n",
      "processed 1501 sentences\n",
      "so far, 155.5846 seconds passed \n",
      "\n",
      "\n",
      "processed 1601 sentences\n",
      "so far, 166.5421 seconds passed \n",
      "\n",
      "\n",
      "processed 1701 sentences\n",
      "so far, 177.8747 seconds passed \n",
      "\n",
      "\n",
      "processed 1801 sentences\n",
      "so far, 187.0533 seconds passed \n",
      "\n",
      "\n",
      "processed 1901 sentences\n",
      "so far, 196.0142 seconds passed \n",
      "\n",
      "\n"
     ]
    }
   ],
   "source": [
    "embed_dim = gpt2_model.config.n_embd\n",
    "print(f\"embedding dimension = {embed_dim}\")\n",
    "gpt2_embeddings = np.empty((num_sentences_to_embed,embed_dim))\n",
    "tic = time.perf_counter()\n",
    "for i in range(len(train_sentences)):\n",
    "    input = gpt2_tokenizer(train_sentences[i], truncation=True, max_length=256,return_tensors=\"pt\")\n",
    "    with torch.no_grad():\n",
    "        output = gpt2_model(**input)\n",
    "    # with GPT2 embeddings, we take the mean of the hidden states of all tokens\n",
    "    gpt2_embeddings[i,:] = output.last_hidden_state[:,:,:].numpy().mean(axis=1)\n",
    "    if (i%100 == 0) and (i != 0):\n",
    "        toc = time.perf_counter()\n",
    "        print(f\"processed {(i+1)} sentences\")\n",
    "        print(f\"so far, {toc - tic:0.4f} seconds passed \\n\\n\")\n"
   ],
   "metadata": {
    "collapsed": false
   }
  },
  {
   "cell_type": "markdown",
   "source": [
    "#### XLNet embeddings"
   ],
   "metadata": {
    "collapsed": false
   }
  },
  {
   "cell_type": "code",
   "execution_count": 97,
   "outputs": [
    {
     "data": {
      "text/plain": "Downloading (…)ve/main/spiece.model:   0%|          | 0.00/798k [00:00<?, ?B/s]",
      "application/vnd.jupyter.widget-view+json": {
       "version_major": 2,
       "version_minor": 0,
       "model_id": "f685056b048a4877bb27f84ff039046b"
      }
     },
     "metadata": {},
     "output_type": "display_data"
    },
    {
     "data": {
      "text/plain": "Downloading (…)/main/tokenizer.json:   0%|          | 0.00/1.38M [00:00<?, ?B/s]",
      "application/vnd.jupyter.widget-view+json": {
       "version_major": 2,
       "version_minor": 0,
       "model_id": "d86fed03329449dfba3a9fab29c47452"
      }
     },
     "metadata": {},
     "output_type": "display_data"
    },
    {
     "name": "stderr",
     "output_type": "stream",
     "text": [
      "Some weights of the model checkpoint at xlnet-base-cased were not used when initializing XLNetModel: ['lm_loss.weight', 'lm_loss.bias']\n",
      "- This IS expected if you are initializing XLNetModel from the checkpoint of a model trained on another task or with another architecture (e.g. initializing a BertForSequenceClassification model from a BertForPreTraining model).\n",
      "- This IS NOT expected if you are initializing XLNetModel from the checkpoint of a model that you expect to be exactly identical (initializing a BertForSequenceClassification model from a BertForSequenceClassification model).\n"
     ]
    }
   ],
   "source": [
    "from transformers import XLNetModel\n",
    "\n",
    "xlnet_tokenizer = AutoTokenizer.from_pretrained(\"xlnet-base-cased\", cache_dir=models_dir)\n",
    "xlnet_model = XLNetModel.from_pretrained(\"xlnet-base-cased\", cache_dir=models_dir)"
   ],
   "metadata": {
    "collapsed": false
   }
  },
  {
   "cell_type": "code",
   "execution_count": 98,
   "outputs": [
    {
     "name": "stdout",
     "output_type": "stream",
     "text": [
      "embedding dimension = 768\n"
     ]
    }
   ],
   "source": [
    "embed_dim = xlnet_model.config.hidden_size\n",
    "print(f\"embedding dimension = {embed_dim}\")"
   ],
   "metadata": {
    "collapsed": false
   }
  },
  {
   "cell_type": "code",
   "execution_count": 99,
   "outputs": [
    {
     "name": "stdout",
     "output_type": "stream",
     "text": [
      "processed 101 sentences\n",
      "so far, 12.0105 seconds passed \n",
      "\n",
      "\n",
      "processed 201 sentences\n",
      "so far, 26.4010 seconds passed \n",
      "\n",
      "\n",
      "processed 301 sentences\n",
      "so far, 40.1186 seconds passed \n",
      "\n",
      "\n",
      "processed 401 sentences\n",
      "so far, 55.2785 seconds passed \n",
      "\n",
      "\n",
      "processed 501 sentences\n",
      "so far, 71.2471 seconds passed \n",
      "\n",
      "\n",
      "processed 601 sentences\n",
      "so far, 87.2732 seconds passed \n",
      "\n",
      "\n",
      "processed 701 sentences\n",
      "so far, 102.7303 seconds passed \n",
      "\n",
      "\n",
      "processed 801 sentences\n",
      "so far, 118.7175 seconds passed \n",
      "\n",
      "\n",
      "processed 901 sentences\n",
      "so far, 134.8441 seconds passed \n",
      "\n",
      "\n",
      "processed 1001 sentences\n",
      "so far, 150.3874 seconds passed \n",
      "\n",
      "\n",
      "processed 1101 sentences\n",
      "so far, 165.7539 seconds passed \n",
      "\n",
      "\n",
      "processed 1201 sentences\n",
      "so far, 182.3115 seconds passed \n",
      "\n",
      "\n",
      "processed 1301 sentences\n",
      "so far, 200.1680 seconds passed \n",
      "\n",
      "\n",
      "processed 1401 sentences\n",
      "so far, 216.1688 seconds passed \n",
      "\n",
      "\n",
      "processed 1501 sentences\n",
      "so far, 229.9443 seconds passed \n",
      "\n",
      "\n",
      "processed 1601 sentences\n",
      "so far, 244.3036 seconds passed \n",
      "\n",
      "\n",
      "processed 1701 sentences\n",
      "so far, 258.5122 seconds passed \n",
      "\n",
      "\n",
      "processed 1801 sentences\n",
      "so far, 272.5199 seconds passed \n",
      "\n",
      "\n",
      "processed 1901 sentences\n",
      "so far, 287.5396 seconds passed \n",
      "\n",
      "\n"
     ]
    }
   ],
   "source": [
    "xlnet_embeddings = np.empty((num_sentences_to_embed,embed_dim))\n",
    "tic = time.perf_counter()\n",
    "for i in range(len(train_sentences)):\n",
    "    input = xlnet_tokenizer(train_sentences[i], truncation=True, max_length=256,return_tensors=\"pt\")\n",
    "    with torch.no_grad():\n",
    "        output = xlnet_model(**input)\n",
    "    xlnet_embeddings[i,:] = output.last_hidden_state[:,-1,:].numpy()\n",
    "    if (i%100 == 0) and (i != 0):\n",
    "        toc = time.perf_counter()\n",
    "        print(f\"processed {(i+1)} sentences\")\n",
    "        print(f\"so far, {toc - tic:0.4f} seconds passed \\n\\n\")"
   ],
   "metadata": {
    "collapsed": false
   }
  },
  {
   "cell_type": "markdown",
   "source": [
    "#### BART embeddings"
   ],
   "metadata": {
    "collapsed": false
   }
  },
  {
   "cell_type": "code",
   "execution_count": 100,
   "outputs": [
    {
     "data": {
      "text/plain": "Downloading (…)lve/main/config.json:   0%|          | 0.00/1.72k [00:00<?, ?B/s]",
      "application/vnd.jupyter.widget-view+json": {
       "version_major": 2,
       "version_minor": 0,
       "model_id": "f00b13050b7c4b60895f1e3d88b90b77"
      }
     },
     "metadata": {},
     "output_type": "display_data"
    },
    {
     "data": {
      "text/plain": "Downloading (…)olve/main/vocab.json:   0%|          | 0.00/899k [00:00<?, ?B/s]",
      "application/vnd.jupyter.widget-view+json": {
       "version_major": 2,
       "version_minor": 0,
       "model_id": "283ddca9d52f4f21ad5b38e746d07655"
      }
     },
     "metadata": {},
     "output_type": "display_data"
    },
    {
     "data": {
      "text/plain": "Downloading (…)olve/main/merges.txt:   0%|          | 0.00/456k [00:00<?, ?B/s]",
      "application/vnd.jupyter.widget-view+json": {
       "version_major": 2,
       "version_minor": 0,
       "model_id": "c613e1ef038c40df9d4199b8b0641709"
      }
     },
     "metadata": {},
     "output_type": "display_data"
    },
    {
     "data": {
      "text/plain": "Downloading (…)/main/tokenizer.json:   0%|          | 0.00/1.36M [00:00<?, ?B/s]",
      "application/vnd.jupyter.widget-view+json": {
       "version_major": 2,
       "version_minor": 0,
       "model_id": "5b13c9e4778749ff8c17960ed70cdb03"
      }
     },
     "metadata": {},
     "output_type": "display_data"
    },
    {
     "data": {
      "text/plain": "Downloading pytorch_model.bin:   0%|          | 0.00/558M [00:00<?, ?B/s]",
      "application/vnd.jupyter.widget-view+json": {
       "version_major": 2,
       "version_minor": 0,
       "model_id": "5c0602f065494de7bde1056d4fe5a84a"
      }
     },
     "metadata": {},
     "output_type": "display_data"
    },
    {
     "name": "stdout",
     "output_type": "stream",
     "text": [
      "embedding dimension = 768\n"
     ]
    }
   ],
   "source": [
    "from transformers import AutoTokenizer, BartModel\n",
    "\n",
    "bart_tokenizer = AutoTokenizer.from_pretrained(\"facebook/bart-base\", cache_dir=models_dir)\n",
    "bart_model = BartModel.from_pretrained(\"facebook/bart-base\", cache_dir=models_dir)\n",
    "embed_dim = bart_model.config.hidden_size\n",
    "print(f\"embedding dimension = {embed_dim}\")"
   ],
   "metadata": {
    "collapsed": false
   }
  },
  {
   "cell_type": "code",
   "execution_count": 101,
   "outputs": [
    {
     "name": "stdout",
     "output_type": "stream",
     "text": [
      "processed 101 sentences\n",
      "so far, 10.2391 seconds passed \n",
      "\n",
      "\n",
      "processed 201 sentences\n",
      "so far, 21.4842 seconds passed \n",
      "\n",
      "\n",
      "processed 301 sentences\n",
      "so far, 32.1924 seconds passed \n",
      "\n",
      "\n",
      "processed 401 sentences\n",
      "so far, 42.8739 seconds passed \n",
      "\n",
      "\n",
      "processed 501 sentences\n",
      "so far, 53.8737 seconds passed \n",
      "\n",
      "\n",
      "processed 601 sentences\n",
      "so far, 65.4924 seconds passed \n",
      "\n",
      "\n",
      "processed 701 sentences\n",
      "so far, 76.1972 seconds passed \n",
      "\n",
      "\n",
      "processed 801 sentences\n",
      "so far, 87.5240 seconds passed \n",
      "\n",
      "\n",
      "processed 901 sentences\n",
      "so far, 99.0505 seconds passed \n",
      "\n",
      "\n",
      "processed 1001 sentences\n",
      "so far, 110.3832 seconds passed \n",
      "\n",
      "\n",
      "processed 1101 sentences\n",
      "so far, 121.9233 seconds passed \n",
      "\n",
      "\n",
      "processed 1201 sentences\n",
      "so far, 134.0412 seconds passed \n",
      "\n",
      "\n",
      "processed 1301 sentences\n",
      "so far, 145.4446 seconds passed \n",
      "\n",
      "\n",
      "processed 1401 sentences\n",
      "so far, 156.5131 seconds passed \n",
      "\n",
      "\n",
      "processed 1501 sentences\n",
      "so far, 168.2182 seconds passed \n",
      "\n",
      "\n",
      "processed 1601 sentences\n",
      "so far, 179.7756 seconds passed \n",
      "\n",
      "\n",
      "processed 1701 sentences\n",
      "so far, 192.6344 seconds passed \n",
      "\n",
      "\n",
      "processed 1801 sentences\n",
      "so far, 203.6420 seconds passed \n",
      "\n",
      "\n",
      "processed 1901 sentences\n",
      "so far, 218.0609 seconds passed \n",
      "\n",
      "\n"
     ]
    }
   ],
   "source": [
    "bart_embeddings = np.empty((num_sentences_to_embed,embed_dim))\n",
    "tic = time.perf_counter()\n",
    "for i in range(len(train_sentences)):\n",
    "    input = bart_tokenizer(train_sentences[i], truncation=True, max_length=256,return_tensors=\"pt\")\n",
    "    with torch.no_grad():\n",
    "        output = bart_model(**input)\n",
    "    bart_embeddings[i,:] = output.last_hidden_state[:,:,:].numpy().mean(axis=1)\n",
    "    if (i%100 == 0) and (i != 0):\n",
    "        toc = time.perf_counter()\n",
    "        print(f\"processed {(i+1)} sentences\")\n",
    "        print(f\"so far, {toc - tic:0.4f} seconds passed \\n\\n\")\n"
   ],
   "metadata": {
    "collapsed": false
   }
  },
  {
   "cell_type": "markdown",
   "source": [
    "## Classification of embedded test"
   ],
   "metadata": {
    "collapsed": false
   }
  },
  {
   "cell_type": "code",
   "execution_count": 123,
   "outputs": [
    {
     "name": "stdout",
     "output_type": "stream",
     "text": [
      "X shape = (2000, 2304)\n"
     ]
    }
   ],
   "source": [
    "embed_list = [bart_embeddings,bert_embeddings,xlnet_embeddings]\n",
    "X = np.concatenate(embed_list,axis=1)\n",
    "print(f\"X shape = {X.shape}\")"
   ],
   "metadata": {
    "collapsed": false
   }
  },
  {
   "cell_type": "code",
   "execution_count": 124,
   "outputs": [],
   "source": [
    "y = np.array(train_labels)"
   ],
   "metadata": {
    "collapsed": false
   }
  },
  {
   "cell_type": "code",
   "execution_count": 125,
   "outputs": [
    {
     "name": "stdout",
     "output_type": "stream",
     "text": [
      "100%|██████████| 50/50 [08:55<00:00, 10.72s/trial, best loss: -0.8905]           \n",
      "best_params = {'C': 3.370121667332815, 'degree': 3, 'kernel': 'rbf'}\n"
     ]
    }
   ],
   "source": [
    "# optimize a SVM classifier to the train data\n",
    "svm_search_space = {'C' : hp.uniform('C',0.1,10),\n",
    "                        'kernel': hp.choice('kernel',['linear', 'poly', 'rbf', 'sigmoid']),\n",
    "                        'degree' : hp.choice('degree',list(range(1,10)))}\n",
    "\n",
    "hyper_opt = model_hypopt(model=SVC,param_space=svm_search_space,X_train=X, y_train=y, iterations=50)\n",
    "best_params = hyper_opt.run()\n",
    "print(f\"best_params = {best_params}\")"
   ],
   "metadata": {
    "collapsed": false
   }
  },
  {
   "cell_type": "code",
   "execution_count": 126,
   "outputs": [
    {
     "name": "stdout",
     "output_type": "stream",
     "text": [
      "Measuring accuracy with 4 classes,  5 training examples per class\n",
      "---------------------------------------------------------------\n",
      "classifier cs_cls, mean accuracy is 0.43244444444444446, std accuracy is 0.03478145507861885\n",
      "classifier cs_fs_dp, mean accuracy is 0.6836565656565656, std accuracy is 0.1127519686210202\n",
      "classifier cs_fs_ova, mean accuracy is 0.641909090909091, std accuracy is 0.14444898241088033\n",
      "classifier knn_cls, mean accuracy is 0.43594949494949503, std accuracy is 0.05565479566013545\n",
      "classifier knn_fs_dp, mean accuracy is 0.6323737373737373, std accuracy is 0.11996076502078928\n",
      "classifier knn_fs_ova, mean accuracy is 0.584010101010101, std accuracy is 0.12333133172872587\n",
      "classifier svm, mean accuracy is 0.5784040404040404, std accuracy is 0.0552732552104269\n",
      "\n",
      "\n",
      "\n",
      "\n",
      "Measuring accuracy with 4 classes,  10 training examples per class\n",
      "---------------------------------------------------------------\n",
      "classifier cs_cls, mean accuracy is 0.43926530612244896, std accuracy is 0.03248216760000789\n",
      "classifier cs_fs_dp, mean accuracy is 0.7841632653061226, std accuracy is 0.052648409856248295\n",
      "classifier cs_fs_ova, mean accuracy is 0.6776020408163265, std accuracy is 0.15963698699756051\n",
      "classifier knn_cls, mean accuracy is 0.5404081632653062, std accuracy is 0.04564134121957343\n",
      "classifier knn_fs_dp, mean accuracy is 0.7588979591836734, std accuracy is 0.04178881775622186\n",
      "classifier knn_fs_ova, mean accuracy is 0.6726836734693877, std accuracy is 0.10540199964198868\n",
      "classifier svm, mean accuracy is 0.7044183673469386, std accuracy is 0.0367699108401195\n",
      "\n",
      "\n",
      "\n",
      "\n",
      "Measuring accuracy with 4 classes,  20 training examples per class\n",
      "---------------------------------------------------------------\n",
      "classifier cs_cls, mean accuracy is 0.4620416666666667, std accuracy is 0.02621290368205027\n",
      "classifier cs_fs_dp, mean accuracy is 0.8118958333333335, std accuracy is 0.046751615390985865\n",
      "classifier cs_fs_ova, mean accuracy is 0.7549583333333334, std accuracy is 0.13417152876800817\n",
      "classifier knn_cls, mean accuracy is 0.6475937500000001, std accuracy is 0.02708671653548306\n",
      "classifier knn_fs_dp, mean accuracy is 0.7963333333333332, std accuracy is 0.028397017889208016\n",
      "classifier knn_fs_ova, mean accuracy is 0.7618437499999999, std accuracy is 0.05857981871421487\n",
      "classifier svm, mean accuracy is 0.778875, std accuracy is 0.019295918357978652\n",
      "\n",
      "\n",
      "\n",
      "\n",
      "Measuring accuracy with 4 classes,  50 training examples per class\n",
      "---------------------------------------------------------------\n",
      "classifier cs_cls, mean accuracy is 0.4747666666666666, std accuracy is 0.023082271001093047\n",
      "classifier cs_fs_dp, mean accuracy is 0.8299666666666667, std accuracy is 0.048263603596279105\n",
      "classifier cs_fs_ova, mean accuracy is 0.7860888888888888, std accuracy is 0.11933674524400312\n",
      "classifier knn_cls, mean accuracy is 0.7259333333333332, std accuracy is 0.012890057418293896\n",
      "classifier knn_fs_dp, mean accuracy is 0.8214444444444443, std accuracy is 0.015420044674960501\n",
      "classifier knn_fs_ova, mean accuracy is 0.8067777777777778, std accuracy is 0.0320605137702108\n",
      "classifier svm, mean accuracy is 0.8354, std accuracy is 0.010379252809758946\n",
      "\n",
      "\n",
      "\n",
      "\n"
     ]
    },
    {
     "data": {
      "text/plain": "<Figure size 1200x600 with 1 Axes>",
      "image/png": "[encoded data removed]"
     },
     "metadata": {},
     "output_type": "display_data"
    },
    {
     "data": {
      "text/plain": "<Figure size 1200x600 with 1 Axes>",
      "image/png": "[encoded data removed]"
     },
     "metadata": {},
     "output_type": "display_data"
    }
   ],
   "source": [
    "from lib.feature_selection import FeatureSelectionDiversityPursuitAnova,FeatureSelectionOneVsAllAnova\n",
    "gamma = 0.2\n",
    "train_sizes = [5,10,20,50]\n",
    "# define feature selectors\n",
    "dp_fs = FeatureSelectionDiversityPursuitAnova(hc_gamma=gamma)\n",
    "ova_fs = FeatureSelectionOneVsAllAnova(hc_gamma=gamma)\n",
    "# defining classifiers\n",
    "cs_cls  = CentroidSimilarity()\n",
    "cs_fs_dp = ClassifierFeatureSelection(CentroidSimilarity(), dp_fs)\n",
    "cs_fs_ova = ClassifierFeatureSelection(CentroidSimilarity(), ova_fs)\n",
    "knn_cls = KNeighborsClassifier(n_neighbors=train_sizes[0])\n",
    "knn_fs_dp = ClassifierFeatureSelection(knn_cls, dp_fs)\n",
    "knn_fs_ova = ClassifierFeatureSelection(knn_cls, ova_fs)\n",
    "svm_cls = SVC(**best_params)\n",
    "classifiers = [cs_cls, cs_fs_dp, cs_fs_ova, knn_cls, knn_fs_dp, knn_fs_ova, svm_cls]\n",
    "bar_labels = ['cs_cls', 'cs_fs_dp', 'cs_fs_ova', 'knn_cls', 'knn_fs_dp', 'knn_fs_ova', 'svm']\n",
    "num_experiments = 50\n",
    "num_splits = 5\n",
    "# define possible sizes for the train set (number of train examples per class)\n",
    "num_classes = 4\n",
    "accuracies = np.empty((len(classifiers),len(train_sizes),num_experiments))\n",
    "accuracies_w_noise = np.empty((len(classifiers),len(train_sizes),num_experiments))\n",
    "num_features = np.empty((len(classifiers),len(train_sizes),num_experiments))\n",
    "num_features_w_noise = np.empty((len(classifiers),len(train_sizes),num_experiments))\n",
    "\n",
    "for i in range(len(train_sizes)):\n",
    "    print(f\"Measuring accuracy with {num_classes} classes,  {train_sizes[i]} training examples per class\")\n",
    "    print(\"---------------------------------------------------------------\")\n",
    "    for j in range(num_experiments):\n",
    "        X_train, X_test, y_train, y_test = train_test_split(X, y, train_size=train_sizes[i]*num_classes, stratify=y)\n",
    "        accuracies[:,i,j], num_features[:,i,j] = multiple_classifiers_fit_predict(classifiers=classifiers,\n",
    "                                                                                              X_train=X_train,\n",
    "                                                                                              y_train=y_train,\n",
    "                                                                                              X_test=X_test,\n",
    "                                                                                              y_test=y_test)\n",
    "    for l in range(len(classifiers)):\n",
    "        print(f\"classifier {bar_labels[l]}, mean accuracy is {np.mean(accuracies[l,i,:])}, std accuracy is {np.std(accuracies[l,i,:])}\")\n",
    "    print(\"\\n\\n\\n\")\n",
    "\n",
    "bar_plot_scores(scores=np.mean(accuracies,axis=2),\n",
    "                bar_labels=bar_labels,\n",
    "                xticklabels=train_sizes,\n",
    "                xlabel='train_size',\n",
    "                ylabel='accuracy',\n",
    "                title=f'accuracy vs. train size for {num_classes} classes')\n",
    "\n",
    "bar_plot_scores(scores=np.mean(num_features,axis=2),\n",
    "                bar_labels=bar_labels,\n",
    "                xticklabels=train_sizes,\n",
    "                xlabel='train_size',\n",
    "                ylabel='number of features',\n",
    "                title=f'number of selected features vs. train size for {num_classes} classes')"
   ],
   "metadata": {
    "collapsed": false
   }
  }
 ],
 "metadata": {
  "kernelspec": {
   "display_name": "Python 3",
   "language": "python",
   "name": "python3"
  },
  "language_info": {
   "codemirror_mode": {
    "name": "ipython",
    "version": 2
   },
   "file_extension": ".py",
   "mimetype": "text/x-python",
   "name": "python",
   "nbconvert_exporter": "python",
   "pygments_lexer": "ipython2",
   "version": "2.7.6"
  }
 },
 "nbformat": 4,
 "nbformat_minor": 0
}
