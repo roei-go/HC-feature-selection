{
 "cells": [
  {
   "cell_type": "markdown",
   "source": [
    "#### Imports"
   ],
   "metadata": {
    "collapsed": false
   }
  },
  {
   "cell_type": "code",
   "execution_count": 1,
   "metadata": {
    "collapsed": true
   },
   "outputs": [],
   "source": [
    "from datasets import load_dataset\n",
    "import torch\n",
    "from transformers import AutoTokenizer\n",
    "import time\n",
    "from transformers import DistilBertTokenizer, DistilBertModel\n",
    "import os\n",
    "import numpy as np\n",
    "import pandas as pd\n",
    "from matplotlib import pyplot as plt\n",
    "from sklearn.model_selection import train_test_split\n",
    "from sklearn.metrics import accuracy_score\n",
    "from sklearn.svm import SVC\n",
    "from sklearn.linear_model import LogisticRegression\n",
    "from hyperopt import hp\n",
    "from scipy.stats import kruskal\n",
    "from lib.similarity import CentroidSimilarity\n",
    "from utils.hyper_parameters_tuning import model_hypopt\n",
    "from utils.experiment_utils import multiple_classifiers_fit_predict\n",
    "from utils.visualization import plot_hist\n",
    "from sklearn.neighbors import KNeighborsClassifier\n",
    "from lib.feature_selection import FeatureSelectionDiversityPursuitAnova,FeatureSelectionOneVsAllAnova,FeatureSelectionDiversityPursuitKruskal\n",
    "from lib.classifier_with_feature_selection import ClassifierFeatureSelection\n",
    "from utils.visualization import bar_plot_scores\n",
    "%load_ext autoreload\n",
    "%autoreload 2"
   ]
  },
  {
   "cell_type": "code",
   "execution_count": 2,
   "outputs": [
    {
     "name": "stdout",
     "output_type": "stream",
     "text": [
      "GPU Available: False\n",
      "Number of GPU Available: 0\n"
     ]
    }
   ],
   "source": [
    "print(\"GPU Available: {}\".format(torch.cuda.is_available()))\n",
    "n_gpu = torch.cuda.device_count()\n",
    "print(\"Number of GPU Available: {}\".format(n_gpu))\n"
   ],
   "metadata": {
    "collapsed": false
   }
  },
  {
   "cell_type": "code",
   "execution_count": 3,
   "outputs": [],
   "source": [
    "models_dir = \"c:/transformer_models/\"\n",
    "if os.path.isdir(models_dir) is not True:\n",
    "    os.mkdir(models_dir)"
   ],
   "metadata": {
    "collapsed": false
   }
  },
  {
   "cell_type": "markdown",
   "source": [
    "## Load the dataset"
   ],
   "metadata": {
    "collapsed": false
   }
  },
  {
   "cell_type": "markdown",
   "source": [
    "#### IMDB dataset"
   ],
   "metadata": {
    "collapsed": false
   }
  },
  {
   "cell_type": "code",
   "execution_count": 3,
   "outputs": [
    {
     "name": "stderr",
     "output_type": "stream",
     "text": [
      "Found cached dataset imdb (C:/Users/rgolan/.cache/huggingface/datasets/imdb/plain_text/1.0.0/d613c88cf8fa3bab83b4ded3713f1f74830d1100e171db75bbddb80b3345c9c0)\n"
     ]
    },
    {
     "data": {
      "text/plain": "  0%|          | 0/3 [00:00<?, ?it/s]",
      "application/vnd.jupyter.widget-view+json": {
       "version_major": 2,
       "version_minor": 0,
       "model_id": "6f971a3b4f44432aa822acaae6fa6fa1"
      }
     },
     "metadata": {},
     "output_type": "display_data"
    }
   ],
   "source": [
    "imdb = load_dataset(\"imdb\")"
   ],
   "metadata": {
    "collapsed": false
   }
  },
  {
   "cell_type": "code",
   "execution_count": 4,
   "outputs": [],
   "source": [
    "# embed the sentences - take 500 negative samples and 500 positive samples. Note that in the IMDB set, the negative examples are in the first half of the dataset (0-12500)\n",
    "# the positive examples are in the second half\n",
    "num_sentences_to_embed = 1000\n",
    "neg_examples_idx = list(np.random.randint(low=0,high=12500,size=num_sentences_to_embed//2))\n",
    "pos_examples_idx = list(np.random.randint(low=12500,high=25000,size=num_sentences_to_embed//2))\n",
    "examples_to_embed_idx = neg_examples_idx + pos_examples_idx"
   ],
   "metadata": {
    "collapsed": false
   }
  },
  {
   "cell_type": "code",
   "execution_count": 5,
   "outputs": [
    {
     "name": "stdout",
     "output_type": "stream",
     "text": [
      "there are 1000 sentences in the training set\n"
     ]
    }
   ],
   "source": [
    "train_sentences = [imdb['train'][int(i)]['text'] for i in examples_to_embed_idx]\n",
    "train_labels = [imdb['train'][int(i)]['label'] for i in examples_to_embed_idx]\n",
    "print(f\"there are {len(train_sentences)} sentences in the training set\")"
   ],
   "metadata": {
    "collapsed": false
   }
  },
  {
   "cell_type": "markdown",
   "source": [
    "#### AG-News dataset"
   ],
   "metadata": {
    "collapsed": false
   }
  },
  {
   "cell_type": "code",
   "execution_count": 4,
   "outputs": [
    {
     "data": {
      "text/plain": "Downloading readme:   0%|          | 0.00/7.95k [00:00<?, ?B/s]",
      "application/vnd.jupyter.widget-view+json": {
       "version_major": 2,
       "version_minor": 0,
       "model_id": "50574a5aed6d40069109b104b2e2089e"
      }
     },
     "metadata": {},
     "output_type": "display_data"
    },
    {
     "name": "stderr",
     "output_type": "stream",
     "text": [
      "Found cached dataset ag_news (C:/Users/rgolan/.cache/huggingface/datasets/ag_news/default/0.0.0/bc2bcb40336ace1a0374767fc29bb0296cdaf8a6da7298436239c54d79180548)\n"
     ]
    },
    {
     "data": {
      "text/plain": "  0%|          | 0/2 [00:00<?, ?it/s]",
      "application/vnd.jupyter.widget-view+json": {
       "version_major": 2,
       "version_minor": 0,
       "model_id": "afa4ca42a198420a8ee1d5cee1e4bcf0"
      }
     },
     "metadata": {},
     "output_type": "display_data"
    }
   ],
   "source": [
    "ag_news_ds = load_dataset(\"ag_news\")"
   ],
   "metadata": {
    "collapsed": false
   }
  },
  {
   "cell_type": "code",
   "execution_count": 5,
   "outputs": [],
   "source": [
    "num_sentences_to_embed = 2000\n",
    "all_labels = np.array([ag_news_ds['train'][int(i)]['label'] for i in range(len(ag_news_ds['train']))])\n",
    "all_idx = np.arange(len(ag_news_ds['train']))\n",
    "train_idx, test_idx, train_labels, test_labels = train_test_split(all_idx, all_labels, train_size=num_sentences_to_embed, stratify=all_labels)"
   ],
   "metadata": {
    "collapsed": false
   }
  },
  {
   "cell_type": "code",
   "execution_count": 6,
   "outputs": [],
   "source": [
    "train_sentences = [ag_news_ds['train'][int(train_idx[i])]['text'] for i in range(train_idx.shape[0])]"
   ],
   "metadata": {
    "collapsed": false
   }
  },
  {
   "cell_type": "code",
   "execution_count": 7,
   "outputs": [
    {
     "name": "stdout",
     "output_type": "stream",
     "text": [
      "US Women Wrap Up Softball Gold The US women #39;s softball team has finished a dominating performance at the Olympics by capturing the gold medal. The Americans had little trouble with Australia in the final Monday, cruising to a 5-1 victory. 1\n"
     ]
    }
   ],
   "source": [
    "i = 100\n",
    "print(train_sentences[i], train_labels[i])"
   ],
   "metadata": {
    "collapsed": false
   }
  },
  {
   "cell_type": "markdown",
   "source": [
    "## Get embeddings"
   ],
   "metadata": {
    "collapsed": false
   }
  },
  {
   "cell_type": "markdown",
   "source": [
    "#### BERT embeddings"
   ],
   "metadata": {
    "collapsed": false
   }
  },
  {
   "cell_type": "code",
   "execution_count": 8,
   "outputs": [],
   "source": [
    "# initialize a tokenizer\n",
    "bert_tokenizer = AutoTokenizer.from_pretrained('bert-base-uncased', cache_dir=models_dir)"
   ],
   "metadata": {
    "collapsed": false
   }
  },
  {
   "cell_type": "code",
   "execution_count": 9,
   "outputs": [
    {
     "name": "stderr",
     "output_type": "stream",
     "text": [
      "Some weights of the model checkpoint at bert-base-uncased were not used when initializing BertModel: ['cls.predictions.transform.dense.bias', 'cls.seq_relationship.bias', 'cls.predictions.transform.LayerNorm.bias', 'cls.predictions.transform.LayerNorm.weight', 'cls.predictions.decoder.weight', 'cls.predictions.transform.dense.weight', 'cls.seq_relationship.weight', 'cls.predictions.bias']\n",
      "- This IS expected if you are initializing BertModel from the checkpoint of a model trained on another task or with another architecture (e.g. initializing a BertForSequenceClassification model from a BertForPreTraining model).\n",
      "- This IS NOT expected if you are initializing BertModel from the checkpoint of a model that you expect to be exactly identical (initializing a BertForSequenceClassification model from a BertForSequenceClassification model).\n"
     ]
    }
   ],
   "source": [
    "from transformers import BertModel\n",
    "bert_model = BertModel.from_pretrained(\"bert-base-uncased\", cache_dir=models_dir)"
   ],
   "metadata": {
    "collapsed": false
   }
  },
  {
   "cell_type": "code",
   "execution_count": 10,
   "outputs": [
    {
     "name": "stdout",
     "output_type": "stream",
     "text": [
      "embedding dimension = 768\n"
     ]
    }
   ],
   "source": [
    "embed_dim = bert_model.config.hidden_size\n",
    "print(f\"embedding dimension = {embed_dim}\")\n",
    "bert_model.config.output_hidden_states = True"
   ],
   "metadata": {
    "collapsed": false
   }
  },
  {
   "cell_type": "code",
   "execution_count": 11,
   "outputs": [
    {
     "name": "stdout",
     "output_type": "stream",
     "text": [
      "processed 101 sentences\n",
      "so far, 8.5152 seconds passed \n",
      "\n",
      "\n",
      "processed 201 sentences\n",
      "so far, 16.9043 seconds passed \n",
      "\n",
      "\n",
      "processed 301 sentences\n",
      "so far, 25.6757 seconds passed \n",
      "\n",
      "\n",
      "processed 401 sentences\n",
      "so far, 34.2587 seconds passed \n",
      "\n",
      "\n",
      "processed 501 sentences\n",
      "so far, 43.4015 seconds passed \n",
      "\n",
      "\n",
      "processed 601 sentences\n",
      "so far, 54.7391 seconds passed \n",
      "\n",
      "\n",
      "processed 701 sentences\n",
      "so far, 67.1069 seconds passed \n",
      "\n",
      "\n",
      "processed 801 sentences\n",
      "so far, 76.1254 seconds passed \n",
      "\n",
      "\n",
      "processed 901 sentences\n",
      "so far, 84.9511 seconds passed \n",
      "\n",
      "\n",
      "processed 1001 sentences\n",
      "so far, 93.4929 seconds passed \n",
      "\n",
      "\n",
      "processed 1101 sentences\n",
      "so far, 102.3430 seconds passed \n",
      "\n",
      "\n",
      "processed 1201 sentences\n",
      "so far, 111.2858 seconds passed \n",
      "\n",
      "\n",
      "processed 1301 sentences\n",
      "so far, 120.5906 seconds passed \n",
      "\n",
      "\n",
      "processed 1401 sentences\n",
      "so far, 129.0649 seconds passed \n",
      "\n",
      "\n",
      "processed 1501 sentences\n",
      "so far, 137.3998 seconds passed \n",
      "\n",
      "\n",
      "processed 1601 sentences\n",
      "so far, 146.6241 seconds passed \n",
      "\n",
      "\n",
      "processed 1701 sentences\n",
      "so far, 156.6964 seconds passed \n",
      "\n",
      "\n",
      "processed 1801 sentences\n",
      "so far, 167.9192 seconds passed \n",
      "\n",
      "\n",
      "processed 1901 sentences\n",
      "so far, 177.0907 seconds passed \n",
      "\n",
      "\n"
     ]
    }
   ],
   "source": [
    "bert_embeddings = np.empty((num_sentences_to_embed,embed_dim))\n",
    "tic = time.perf_counter()\n",
    "for i in range(len(train_sentences)):\n",
    "    input = bert_tokenizer(train_sentences[i], padding=True, truncation=True, max_length=256, return_tensors=\"pt\")\n",
    "    with torch.no_grad():\n",
    "        output = bert_model(**input)\n",
    "    # as the sentence embedding we're taking the hidden state corresponding to the [CLS] token\n",
    "    bert_embeddings[i,:] = output.last_hidden_state[:,0,:].numpy()\n",
    "    if (i%100 == 0) and (i != 0):\n",
    "        toc = time.perf_counter()\n",
    "        print(f\"processed {(i+1)} sentences\")\n",
    "        print(f\"so far, {toc - tic:0.4f} seconds passed \\n\\n\")\n"
   ],
   "metadata": {
    "collapsed": false
   }
  },
  {
   "cell_type": "code",
   "execution_count": 12,
   "outputs": [
    {
     "name": "stdout",
     "output_type": "stream",
     "text": [
      "bert embeddings shape = (2000, 768)\n"
     ]
    }
   ],
   "source": [
    "print(f\"bert embeddings shape = {bert_embeddings.shape}\")"
   ],
   "metadata": {
    "collapsed": false
   }
  },
  {
   "cell_type": "markdown",
   "source": [
    "#### GPT2 embeddings"
   ],
   "metadata": {
    "collapsed": false
   }
  },
  {
   "cell_type": "code",
   "execution_count": 12,
   "outputs": [
    {
     "name": "stderr",
     "output_type": "stream",
     "text": [
      "'HTTPSConnectionPool(host='huggingface.co', port=443): Max retries exceeded with url: /gpt2/resolve/main/tokenizer_config.json (Caused by ConnectTimeoutError(<urllib3.connection.HTTPSConnection object at 0x000001FFA86A9A80>, 'Connection to huggingface.co timed out. (connect timeout=10)'))' thrown while requesting HEAD https://huggingface.co/gpt2/resolve/main/tokenizer_config.json\n",
      "'HTTPSConnectionPool(host='huggingface.co', port=443): Max retries exceeded with url: /gpt2/resolve/main/config.json (Caused by ConnectTimeoutError(<urllib3.connection.HTTPSConnection object at 0x000001FFA86A8790>, 'Connection to huggingface.co timed out. (connect timeout=10)'))' thrown while requesting HEAD https://huggingface.co/gpt2/resolve/main/config.json\n",
      "'HTTPSConnectionPool(host='huggingface.co', port=443): Max retries exceeded with url: /gpt2/resolve/main/tokenizer_config.json (Caused by ConnectTimeoutError(<urllib3.connection.HTTPSConnection object at 0x000001FFAA827490>, 'Connection to huggingface.co timed out. (connect timeout=10)'))' thrown while requesting HEAD https://huggingface.co/gpt2/resolve/main/tokenizer_config.json\n",
      "'HTTPSConnectionPool(host='huggingface.co', port=443): Max retries exceeded with url: /gpt2/resolve/main/vocab.json (Caused by ConnectTimeoutError(<urllib3.connection.HTTPSConnection object at 0x000001FFAA827D90>, 'Connection to huggingface.co timed out. (connect timeout=10)'))' thrown while requesting HEAD https://huggingface.co/gpt2/resolve/main/vocab.json\n",
      "'HTTPSConnectionPool(host='huggingface.co', port=443): Max retries exceeded with url: /gpt2/resolve/main/config.json (Caused by ConnectTimeoutError(<urllib3.connection.HTTPSConnection object at 0x000001FFAA8ACB80>, 'Connection to huggingface.co timed out. (connect timeout=10)'))' thrown while requesting HEAD https://huggingface.co/gpt2/resolve/main/config.json\n"
     ]
    }
   ],
   "source": [
    "from transformers import AutoTokenizer, GPT2Model\n",
    "gpt2_tokenizer = AutoTokenizer.from_pretrained(\"gpt2\", cache_dir=models_dir)\n",
    "gpt2_model = GPT2Model.from_pretrained(\"gpt2\", cache_dir=models_dir)"
   ],
   "metadata": {
    "collapsed": false
   }
  },
  {
   "cell_type": "code",
   "execution_count": 13,
   "outputs": [
    {
     "name": "stdout",
     "output_type": "stream",
     "text": [
      "embedding dimension = 768\n",
      "processed 101 sentences\n",
      "so far, 14.3031 seconds passed \n",
      "\n",
      "\n",
      "processed 201 sentences\n",
      "so far, 30.4976 seconds passed \n",
      "\n",
      "\n",
      "processed 301 sentences\n",
      "so far, 45.5717 seconds passed \n",
      "\n",
      "\n",
      "processed 401 sentences\n",
      "so far, 61.4178 seconds passed \n",
      "\n",
      "\n",
      "processed 501 sentences\n",
      "so far, 76.9001 seconds passed \n",
      "\n",
      "\n",
      "processed 601 sentences\n",
      "so far, 92.2894 seconds passed \n",
      "\n",
      "\n",
      "processed 701 sentences\n",
      "so far, 107.0138 seconds passed \n",
      "\n",
      "\n",
      "processed 801 sentences\n",
      "so far, 121.9904 seconds passed \n",
      "\n",
      "\n",
      "processed 901 sentences\n",
      "so far, 135.9049 seconds passed \n",
      "\n",
      "\n",
      "processed 1001 sentences\n",
      "so far, 150.2268 seconds passed \n",
      "\n",
      "\n",
      "processed 1101 sentences\n",
      "so far, 163.6525 seconds passed \n",
      "\n",
      "\n",
      "processed 1201 sentences\n",
      "so far, 178.1675 seconds passed \n",
      "\n",
      "\n",
      "processed 1301 sentences\n",
      "so far, 192.6098 seconds passed \n",
      "\n",
      "\n",
      "processed 1401 sentences\n",
      "so far, 207.3017 seconds passed \n",
      "\n",
      "\n",
      "processed 1501 sentences\n",
      "so far, 223.1118 seconds passed \n",
      "\n",
      "\n",
      "processed 1601 sentences\n",
      "so far, 238.6901 seconds passed \n",
      "\n",
      "\n",
      "processed 1701 sentences\n",
      "so far, 253.7414 seconds passed \n",
      "\n",
      "\n",
      "processed 1801 sentences\n",
      "so far, 268.2065 seconds passed \n",
      "\n",
      "\n",
      "processed 1901 sentences\n",
      "so far, 284.0536 seconds passed \n",
      "\n",
      "\n"
     ]
    }
   ],
   "source": [
    "embed_dim = gpt2_model.config.n_embd\n",
    "print(f\"embedding dimension = {embed_dim}\")\n",
    "gpt2_embeddings = np.empty((num_sentences_to_embed,embed_dim))\n",
    "tic = time.perf_counter()\n",
    "for i in range(len(train_sentences)):\n",
    "    input = gpt2_tokenizer(train_sentences[i], truncation=True, max_length=256,return_tensors=\"pt\")\n",
    "    with torch.no_grad():\n",
    "        output = gpt2_model(**input)\n",
    "    # with GPT2 embeddings, we take the mean of the hidden states of all tokens\n",
    "    gpt2_embeddings[i,:] = output.last_hidden_state[:,:,:].numpy().mean(axis=1)\n",
    "    if (i%100 == 0) and (i != 0):\n",
    "        toc = time.perf_counter()\n",
    "        print(f\"processed {(i+1)} sentences\")\n",
    "        print(f\"so far, {toc - tic:0.4f} seconds passed \\n\\n\")\n"
   ],
   "metadata": {
    "collapsed": false
   }
  },
  {
   "cell_type": "markdown",
   "source": [
    "#### XLNet embeddings"
   ],
   "metadata": {
    "collapsed": false
   }
  },
  {
   "cell_type": "code",
   "execution_count": 13,
   "outputs": [
    {
     "name": "stderr",
     "output_type": "stream",
     "text": [
      "Some weights of the model checkpoint at xlnet-base-cased were not used when initializing XLNetModel: ['lm_loss.bias', 'lm_loss.weight']\n",
      "- This IS expected if you are initializing XLNetModel from the checkpoint of a model trained on another task or with another architecture (e.g. initializing a BertForSequenceClassification model from a BertForPreTraining model).\n",
      "- This IS NOT expected if you are initializing XLNetModel from the checkpoint of a model that you expect to be exactly identical (initializing a BertForSequenceClassification model from a BertForSequenceClassification model).\n"
     ]
    }
   ],
   "source": [
    "from transformers import XLNetModel\n",
    "\n",
    "xlnet_tokenizer = AutoTokenizer.from_pretrained(\"xlnet-base-cased\", cache_dir=models_dir)\n",
    "xlnet_model = XLNetModel.from_pretrained(\"xlnet-base-cased\", cache_dir=models_dir)"
   ],
   "metadata": {
    "collapsed": false
   }
  },
  {
   "cell_type": "code",
   "execution_count": 14,
   "outputs": [
    {
     "name": "stdout",
     "output_type": "stream",
     "text": [
      "embedding dimension = 768\n"
     ]
    }
   ],
   "source": [
    "embed_dim = xlnet_model.config.hidden_size\n",
    "print(f\"embedding dimension = {embed_dim}\")"
   ],
   "metadata": {
    "collapsed": false
   }
  },
  {
   "cell_type": "code",
   "execution_count": 15,
   "outputs": [
    {
     "name": "stdout",
     "output_type": "stream",
     "text": [
      "processed 101 sentences\n",
      "so far, 16.9354 seconds passed \n",
      "\n",
      "\n",
      "processed 201 sentences\n",
      "so far, 30.9069 seconds passed \n",
      "\n",
      "\n",
      "processed 301 sentences\n",
      "so far, 47.3327 seconds passed \n",
      "\n",
      "\n",
      "processed 401 sentences\n",
      "so far, 61.6225 seconds passed \n",
      "\n",
      "\n",
      "processed 501 sentences\n",
      "so far, 74.8898 seconds passed \n",
      "\n",
      "\n",
      "processed 601 sentences\n",
      "so far, 90.1022 seconds passed \n",
      "\n",
      "\n",
      "processed 701 sentences\n",
      "so far, 106.5749 seconds passed \n",
      "\n",
      "\n",
      "processed 801 sentences\n",
      "so far, 123.4367 seconds passed \n",
      "\n",
      "\n",
      "processed 901 sentences\n",
      "so far, 139.2724 seconds passed \n",
      "\n",
      "\n",
      "processed 1001 sentences\n",
      "so far, 155.3009 seconds passed \n",
      "\n",
      "\n",
      "processed 1101 sentences\n",
      "so far, 170.9008 seconds passed \n",
      "\n",
      "\n",
      "processed 1201 sentences\n",
      "so far, 188.2460 seconds passed \n",
      "\n",
      "\n",
      "processed 1301 sentences\n",
      "so far, 207.7570 seconds passed \n",
      "\n",
      "\n",
      "processed 1401 sentences\n",
      "so far, 228.2706 seconds passed \n",
      "\n",
      "\n",
      "processed 1501 sentences\n",
      "so far, 248.5855 seconds passed \n",
      "\n",
      "\n",
      "processed 1601 sentences\n",
      "so far, 267.5698 seconds passed \n",
      "\n",
      "\n",
      "processed 1701 sentences\n",
      "so far, 286.9463 seconds passed \n",
      "\n",
      "\n",
      "processed 1801 sentences\n",
      "so far, 306.8521 seconds passed \n",
      "\n",
      "\n",
      "processed 1901 sentences\n",
      "so far, 326.3617 seconds passed \n",
      "\n",
      "\n"
     ]
    }
   ],
   "source": [
    "xlnet_embeddings = np.empty((num_sentences_to_embed,embed_dim))\n",
    "tic = time.perf_counter()\n",
    "for i in range(len(train_sentences)):\n",
    "    input = xlnet_tokenizer(train_sentences[i], truncation=True, max_length=256,return_tensors=\"pt\")\n",
    "    with torch.no_grad():\n",
    "        output = xlnet_model(**input)\n",
    "    xlnet_embeddings[i,:] = output.last_hidden_state[:,-1,:].numpy()\n",
    "    if (i%100 == 0) and (i != 0):\n",
    "        toc = time.perf_counter()\n",
    "        print(f\"processed {(i+1)} sentences\")\n",
    "        print(f\"so far, {toc - tic:0.4f} seconds passed \\n\\n\")"
   ],
   "metadata": {
    "collapsed": false
   }
  },
  {
   "cell_type": "markdown",
   "source": [
    "#### BART embeddings"
   ],
   "metadata": {
    "collapsed": false
   }
  },
  {
   "cell_type": "code",
   "execution_count": 16,
   "outputs": [
    {
     "name": "stdout",
     "output_type": "stream",
     "text": [
      "embedding dimension = 768\n"
     ]
    }
   ],
   "source": [
    "from transformers import AutoTokenizer, BartModel\n",
    "\n",
    "bart_tokenizer = AutoTokenizer.from_pretrained(\"facebook/bart-base\", cache_dir=models_dir)\n",
    "bart_model = BartModel.from_pretrained(\"facebook/bart-base\", cache_dir=models_dir)\n",
    "embed_dim = bart_model.config.hidden_size\n",
    "print(f\"embedding dimension = {embed_dim}\")"
   ],
   "metadata": {
    "collapsed": false
   }
  },
  {
   "cell_type": "code",
   "execution_count": 17,
   "outputs": [
    {
     "name": "stdout",
     "output_type": "stream",
     "text": [
      "processed 101 sentences\n",
      "so far, 11.8313 seconds passed \n",
      "\n",
      "\n",
      "processed 201 sentences\n",
      "so far, 27.6402 seconds passed \n",
      "\n",
      "\n",
      "processed 301 sentences\n",
      "so far, 43.9269 seconds passed \n",
      "\n",
      "\n",
      "processed 401 sentences\n",
      "so far, 60.0633 seconds passed \n",
      "\n",
      "\n",
      "processed 501 sentences\n",
      "so far, 77.9143 seconds passed \n",
      "\n",
      "\n",
      "processed 601 sentences\n",
      "so far, 94.7392 seconds passed \n",
      "\n",
      "\n",
      "processed 701 sentences\n",
      "so far, 112.7276 seconds passed \n",
      "\n",
      "\n",
      "processed 801 sentences\n",
      "so far, 128.2996 seconds passed \n",
      "\n",
      "\n",
      "processed 901 sentences\n",
      "so far, 145.0494 seconds passed \n",
      "\n",
      "\n",
      "processed 1001 sentences\n",
      "so far, 161.3746 seconds passed \n",
      "\n",
      "\n",
      "processed 1101 sentences\n",
      "so far, 180.6383 seconds passed \n",
      "\n",
      "\n",
      "processed 1201 sentences\n",
      "so far, 200.4213 seconds passed \n",
      "\n",
      "\n",
      "processed 1301 sentences\n",
      "so far, 216.4198 seconds passed \n",
      "\n",
      "\n",
      "processed 1401 sentences\n",
      "so far, 231.7149 seconds passed \n",
      "\n",
      "\n",
      "processed 1501 sentences\n",
      "so far, 247.3414 seconds passed \n",
      "\n",
      "\n",
      "processed 1601 sentences\n",
      "so far, 263.6830 seconds passed \n",
      "\n",
      "\n",
      "processed 1701 sentences\n",
      "so far, 281.0700 seconds passed \n",
      "\n",
      "\n",
      "processed 1801 sentences\n",
      "so far, 298.5446 seconds passed \n",
      "\n",
      "\n",
      "processed 1901 sentences\n",
      "so far, 314.8096 seconds passed \n",
      "\n",
      "\n"
     ]
    }
   ],
   "source": [
    "bart_embeddings = np.empty((num_sentences_to_embed,embed_dim))\n",
    "tic = time.perf_counter()\n",
    "for i in range(len(train_sentences)):\n",
    "    input = bart_tokenizer(train_sentences[i], truncation=True, max_length=256,return_tensors=\"pt\")\n",
    "    with torch.no_grad():\n",
    "        output = bart_model(**input)\n",
    "    bart_embeddings[i,:] = output.last_hidden_state[:,:,:].numpy().mean(axis=1)\n",
    "    if (i%100 == 0) and (i != 0):\n",
    "        toc = time.perf_counter()\n",
    "        print(f\"processed {(i+1)} sentences\")\n",
    "        print(f\"so far, {toc - tic:0.4f} seconds passed \\n\\n\")\n"
   ],
   "metadata": {
    "collapsed": false
   }
  },
  {
   "cell_type": "markdown",
   "source": [
    "## Classification of embedded text"
   ],
   "metadata": {
    "collapsed": false
   }
  },
  {
   "cell_type": "code",
   "execution_count": 18,
   "outputs": [
    {
     "name": "stdout",
     "output_type": "stream",
     "text": [
      "X shape = (2000, 2304)\n"
     ]
    }
   ],
   "source": [
    "embed_list = [bart_embeddings,bert_embeddings,xlnet_embeddings]\n",
    "X = np.concatenate(embed_list,axis=1)\n",
    "print(f\"X shape = {X.shape}\")"
   ],
   "metadata": {
    "collapsed": false
   }
  },
  {
   "cell_type": "code",
   "execution_count": 19,
   "outputs": [],
   "source": [
    "y = np.array(train_labels)"
   ],
   "metadata": {
    "collapsed": false
   }
  },
  {
   "cell_type": "code",
   "execution_count": 20,
   "outputs": [
    {
     "name": "stdout",
     "output_type": "stream",
     "text": [
      "100%|██████████| 50/50 [07:18<00:00,  8.78s/trial, best loss: -0.891]             \n",
      "lasso best_params = {'C': 0.08405828153472236, 'penalty': 'l1', 'solver': 'liblinear'}\n",
      "100%|██████████| 50/50 [11:59<00:00, 14.40s/trial, best loss: -0.8995]            \n",
      "\n",
      "\n",
      " svm best_params = {'C': 5.741470836187142, 'degree': 5, 'kernel': 'rbf'}\n"
     ]
    }
   ],
   "source": [
    "# optimize a SVM classifier to the train data\n",
    "svm_search_space = {'C' : hp.uniform('C',0.1,10),\n",
    "                        'kernel': hp.choice('kernel',['linear', 'poly', 'rbf', 'sigmoid']),\n",
    "                        'degree' : hp.choice('degree',list(range(1,10)))}\n",
    "# tune a lasso classifier\n",
    "lasso_search_space = {'C' : hp.uniform('C',0.001,10),\n",
    "                          'penalty' : 'l1',\n",
    "                          'solver' : 'liblinear'}\n",
    "hyper_opt = model_hypopt(model=LogisticRegression, param_space=lasso_search_space, X_train=X, y_train=y, iterations=50)\n",
    "lasso_best_params = hyper_opt.run()\n",
    "print(f\"lasso best_params = {lasso_best_params}\")\n",
    "# tune a lasso\n",
    "hyper_opt = model_hypopt(model=SVC,param_space=svm_search_space,X_train=X, y_train=y, iterations=50)\n",
    "svm_best_params = hyper_opt.run()\n",
    "print(f\"\\n\\n svm best_params = {svm_best_params}\")\n",
    "\n"
   ],
   "metadata": {
    "collapsed": false
   }
  },
  {
   "cell_type": "code",
   "execution_count": 21,
   "outputs": [
    {
     "name": "stdout",
     "output_type": "stream",
     "text": [
      "Measuring accuracy with 4 classes,  5 training examples per class\n",
      "---------------------------------------------------------------\n",
      "classifier cs_cls, mean accuracy is 0.4416060606060606, std accuracy is 0.03963959793844997\n",
      "classifier cs_fs_dp, mean accuracy is 0.6951818181818183, std accuracy is 0.09186812934010445\n",
      "classifier cs_fs_ova, mean accuracy is 0.6298484848484849, std accuracy is 0.14390732408999263\n",
      "classifier svm, mean accuracy is 0.5765252525252526, std accuracy is 0.06253750960945142\n",
      "classifier lasso, mean accuracy is 0.297020202020202, std accuracy is 0.034971565694165256\n",
      "classifier cs_cls, mean num features is 2304.0, std is 0.0\n",
      "classifier cs_fs_dp, mean num features is 455.42, std is 7.581793982956804\n",
      "classifier cs_fs_ova, mean num features is 1167.76, std is 95.10448149272462\n",
      "classifier svm, mean num features is 2304.0, std is 0.0\n",
      "classifier lasso, mean num features is 3.5, std is 0.8306623862918074\n",
      "\n",
      "\n",
      "\n",
      "\n",
      "Measuring accuracy with 4 classes,  10 training examples per class\n",
      "---------------------------------------------------------------\n",
      "classifier cs_cls, mean accuracy is 0.4498571428571429, std accuracy is 0.031471617750999964\n",
      "classifier cs_fs_dp, mean accuracy is 0.7395204081632653, std accuracy is 0.11136128126327428\n",
      "classifier cs_fs_ova, mean accuracy is 0.6529591836734693, std accuracy is 0.16010304886455715\n",
      "classifier svm, mean accuracy is 0.6968571428571428, std accuracy is 0.04858186305343391\n",
      "classifier lasso, mean accuracy is 0.44876530612244897, std accuracy is 0.045694817510908925\n",
      "classifier cs_cls, mean num features is 2304.0, std is 0.0\n",
      "classifier cs_fs_dp, mean num features is 459.9, std is 0.41231056256176607\n",
      "classifier cs_fs_ova, mean num features is 1215.62, std is 47.15035100611659\n",
      "classifier svm, mean num features is 2304.0, std is 0.0\n",
      "classifier lasso, mean num features is 8.22, std is 1.8142767153882562\n",
      "\n",
      "\n",
      "\n",
      "\n",
      "Measuring accuracy with 4 classes,  20 training examples per class\n",
      "---------------------------------------------------------------\n",
      "classifier cs_cls, mean accuracy is 0.46429166666666666, std accuracy is 0.02935322774699005\n",
      "classifier cs_fs_dp, mean accuracy is 0.7864375000000001, std accuracy is 0.09483154838683404\n",
      "classifier cs_fs_ova, mean accuracy is 0.7335625, std accuracy is 0.14857716967024986\n",
      "classifier svm, mean accuracy is 0.7814583333333333, std accuracy is 0.021701444444373334\n",
      "classifier lasso, mean accuracy is 0.6398645833333333, std accuracy is 0.03433713349974292\n",
      "classifier cs_cls, mean num features is 2304.0, std is 0.0\n",
      "classifier cs_fs_dp, mean num features is 460.0, std is 0.0\n",
      "classifier cs_fs_ova, mean num features is 1242.38, std is 13.981258884664141\n",
      "classifier svm, mean num features is 2304.0, std is 0.0\n",
      "classifier lasso, mean num features is 25.06, std is 4.225683376685954\n",
      "\n",
      "\n",
      "\n",
      "\n",
      "Measuring accuracy with 4 classes,  50 training examples per class\n",
      "---------------------------------------------------------------\n",
      "classifier cs_cls, mean accuracy is 0.4768222222222222, std accuracy is 0.023153550776938012\n",
      "classifier cs_fs_dp, mean accuracy is 0.8345666666666667, std accuracy is 0.04591542009466031\n",
      "classifier cs_fs_ova, mean accuracy is 0.7904777777777777, std accuracy is 0.11826461280524835\n",
      "classifier svm, mean accuracy is 0.8361666666666667, std accuracy is 0.008598198203442334\n",
      "classifier lasso, mean accuracy is 0.7794000000000001, std accuracy is 0.01439986282513539\n",
      "classifier cs_cls, mean num features is 2304.0, std is 0.0\n",
      "classifier cs_fs_dp, mean num features is 919.5, std is 69.09623723474384\n",
      "classifier cs_fs_ova, mean num features is 1250.06, std is 25.898579111603787\n",
      "classifier svm, mean num features is 2304.0, std is 0.0\n",
      "classifier lasso, mean num features is 75.78, std is 6.850664201374929\n",
      "\n",
      "\n",
      "\n",
      "\n"
     ]
    },
    {
     "data": {
      "text/plain": "<Figure size 1200x600 with 1 Axes>",
      "image/png": "[encoded data removed]"
     },
     "metadata": {},
     "output_type": "display_data"
    },
    {
     "data": {
      "text/plain": "<Figure size 1200x600 with 1 Axes>",
      "image/png": "[encoded data removed]"
     },
     "metadata": {},
     "output_type": "display_data"
    }
   ],
   "source": [
    "from lib.feature_selection import FeatureSelectionDiversityPursuitAnova,FeatureSelectionOneVsAllAnova\n",
    "gamma = 0.2\n",
    "train_sizes = [5,10,20,50]\n",
    "# define feature selectors\n",
    "dp_fs = FeatureSelectionDiversityPursuitAnova(hc_gamma=gamma)\n",
    "ova_fs = FeatureSelectionOneVsAllAnova(hc_gamma=gamma)\n",
    "# defining classifiers\n",
    "cs_cls  = CentroidSimilarity()\n",
    "cs_fs_dp = ClassifierFeatureSelection(CentroidSimilarity(), dp_fs)\n",
    "cs_fs_ova = ClassifierFeatureSelection(CentroidSimilarity(), ova_fs)\n",
    "knn_cls = KNeighborsClassifier(n_neighbors=train_sizes[0])\n",
    "knn_fs_dp = ClassifierFeatureSelection(knn_cls, dp_fs)\n",
    "knn_fs_ova = ClassifierFeatureSelection(knn_cls, ova_fs)\n",
    "svm_cls = SVC(**svm_best_params)\n",
    "lasso_cls = LogisticRegression(**lasso_best_params)\n",
    "classifiers = [cs_cls, cs_fs_dp, cs_fs_ova, svm_cls, lasso_cls]\n",
    "bar_labels = ['cs_cls', 'cs_fs_dp', 'cs_fs_ova', 'svm', 'lasso']\n",
    "num_experiments = 50\n",
    "# define possible sizes for the train set (number of train examples per class)\n",
    "num_classes = 4\n",
    "accuracies = np.empty((len(classifiers),len(train_sizes),num_experiments))\n",
    "accuracies_w_noise = np.empty((len(classifiers),len(train_sizes),num_experiments))\n",
    "num_features = np.empty((len(classifiers),len(train_sizes),num_experiments))\n",
    "num_features_w_noise = np.empty((len(classifiers),len(train_sizes),num_experiments))\n",
    "\n",
    "for i in range(len(train_sizes)):\n",
    "    print(f\"Measuring accuracy with {num_classes} classes,  {train_sizes[i]} training examples per class\")\n",
    "    print(\"---------------------------------------------------------------\")\n",
    "    for j in range(num_experiments):\n",
    "        X_train, X_test, y_train, y_test = train_test_split(X, y, train_size=train_sizes[i]*num_classes, stratify=y)\n",
    "        accuracies[:-1,i,j], num_features[:-1,i,j] = multiple_classifiers_fit_predict(classifiers=classifiers[:-1],\n",
    "                                                                                              X_train=X_train,\n",
    "                                                                                              y_train=y_train,\n",
    "                                                                                              X_test=X_test,\n",
    "                                                                                              y_test=y_test)\n",
    "        lasso_cls.fit(X_train, y_train)\n",
    "        accuracies[-1,i,j] = lasso_cls.score(X_test, y_test)\n",
    "        #print(lasso_cls.coef_.shape)\n",
    "        lasso_features = []\n",
    "        for v in range(lasso_cls.coef_.shape[0]):\n",
    "            lasso_features.extend(list(np.flatnonzero(lasso_cls.coef_[v,:])))\n",
    "        lasso_features = set(lasso_features)\n",
    "        lasso_num_coeff = len(lasso_features)\n",
    "        #print(f\"lasso_num_coeff = {lasso_num_coeff}\")\n",
    "        num_features[-1,i,j] = lasso_num_coeff\n",
    "    for l in range(len(classifiers)):\n",
    "        print(f\"classifier {bar_labels[l]}, mean accuracy is {np.mean(accuracies[l,i,:])}, std accuracy is {np.std(accuracies[l,i,:])}\")\n",
    "    for l in range(len(classifiers)):\n",
    "        print(f\"classifier {bar_labels[l]}, mean num features is {np.mean(num_features[l,i,:])}, std is {np.std(num_features[l,i,:])}\")\n",
    "    print(\"\\n\\n\\n\")\n",
    "\n",
    "bar_plot_scores(scores=np.mean(accuracies,axis=2),\n",
    "                bar_labels=bar_labels,\n",
    "                xticklabels=train_sizes,\n",
    "                xlabel='train_size',\n",
    "                ylabel='accuracy',\n",
    "                title=f'accuracy vs. train size for {num_classes} classes',\n",
    "                err=2*np.std(accuracies,axis=2)/np.sqrt(accuracies.shape[2]))\n",
    "\n",
    "bar_plot_scores(scores=np.mean(num_features,axis=2),\n",
    "                bar_labels=bar_labels,\n",
    "                xticklabels=train_sizes,\n",
    "                xlabel='train_size',\n",
    "                ylabel='number of features',\n",
    "                title=f'number of selected features vs. train size for {num_classes} classes',\n",
    "                err=2*np.std(num_features,axis=2)/np.sqrt(num_features.shape[2]))"
   ],
   "metadata": {
    "collapsed": false
   }
  }
 ],
 "metadata": {
  "kernelspec": {
   "display_name": "Python 3",
   "language": "python",
   "name": "python3"
  },
  "language_info": {
   "codemirror_mode": {
    "name": "ipython",
    "version": 2
   },
   "file_extension": ".py",
   "mimetype": "text/x-python",
   "name": "python",
   "nbconvert_exporter": "python",
   "pygments_lexer": "ipython2",
   "version": "2.7.6"
  }
 },
 "nbformat": 4,
 "nbformat_minor": 0
}
