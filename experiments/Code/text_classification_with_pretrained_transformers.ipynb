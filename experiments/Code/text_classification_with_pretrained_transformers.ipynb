{
 "cells": [
  {
   "cell_type": "markdown",
   "source": [
    "#### Imports"
   ],
   "metadata": {
    "collapsed": false
   }
  },
  {
   "cell_type": "code",
   "execution_count": 1,
   "metadata": {
    "collapsed": true
   },
   "outputs": [],
   "source": [
    "from datasets import load_dataset\n",
    "import torch\n",
    "from transformers import AutoTokenizer\n",
    "import time\n",
    "from transformers import DistilBertTokenizer, DistilBertModel\n",
    "import os\n",
    "import numpy as np\n",
    "import pandas as pd\n",
    "from matplotlib import pyplot as plt\n",
    "from sklearn.model_selection import train_test_split\n",
    "from sklearn.metrics import accuracy_score\n",
    "from sklearn.svm import SVC\n",
    "from hyperopt import hp\n",
    "from scipy.stats import kruskal\n",
    "from lib.similarity import CentroidSimilarity\n",
    "from utils.hyper_parameters_tuning import model_hypopt\n",
    "from utils.experiment_utils import multiple_classifiers_fit_predict\n",
    "from utils.visualization import plot_hist\n",
    "from sklearn.neighbors import KNeighborsClassifier\n",
    "from lib.feature_selection import FeatureSelectionDiversityPursuitAnova,FeatureSelectionOneVsAllAnova,FeatureSelectionDiversityPursuitKruskal\n",
    "from lib.classifier_with_feature_selection import ClassifierFeatureSelection\n",
    "from utils.visualization import bar_plot_scores\n",
    "%load_ext autoreload\n",
    "%autoreload 2"
   ]
  },
  {
   "cell_type": "code",
   "execution_count": 2,
   "outputs": [
    {
     "name": "stdout",
     "output_type": "stream",
     "text": [
      "GPU Available: False\n",
      "Number of GPU Available: 0\n"
     ]
    }
   ],
   "source": [
    "print(\"GPU Available: {}\".format(torch.cuda.is_available()))\n",
    "n_gpu = torch.cuda.device_count()\n",
    "print(\"Number of GPU Available: {}\".format(n_gpu))\n"
   ],
   "metadata": {
    "collapsed": false
   }
  },
  {
   "cell_type": "markdown",
   "source": [
    "## Load the dataset"
   ],
   "metadata": {
    "collapsed": false
   }
  },
  {
   "cell_type": "markdown",
   "source": [
    "### IMDB dataset"
   ],
   "metadata": {
    "collapsed": false
   }
  },
  {
   "cell_type": "code",
   "execution_count": 3,
   "outputs": [
    {
     "name": "stderr",
     "output_type": "stream",
     "text": [
      "Found cached dataset imdb (C:/Users/rgolan/.cache/huggingface/datasets/imdb/plain_text/1.0.0/d613c88cf8fa3bab83b4ded3713f1f74830d1100e171db75bbddb80b3345c9c0)\n"
     ]
    },
    {
     "data": {
      "text/plain": "  0%|          | 0/3 [00:00<?, ?it/s]",
      "application/vnd.jupyter.widget-view+json": {
       "version_major": 2,
       "version_minor": 0,
       "model_id": "6f971a3b4f44432aa822acaae6fa6fa1"
      }
     },
     "metadata": {},
     "output_type": "display_data"
    }
   ],
   "source": [
    "imdb = load_dataset(\"imdb\")"
   ],
   "metadata": {
    "collapsed": false
   }
  },
  {
   "cell_type": "code",
   "execution_count": 4,
   "outputs": [],
   "source": [
    "# embed the sentences - take 500 negative samples and 500 positive samples. Note that in the IMDB set, the negative examples are in the first half of the dataset (0-12500)\n",
    "# the positive examples are in the second half\n",
    "num_sentences_to_embed = 1000\n",
    "neg_examples_idx = list(np.random.randint(low=0,high=12500,size=num_sentences_to_embed//2))\n",
    "pos_examples_idx = list(np.random.randint(low=12500,high=25000,size=num_sentences_to_embed//2))\n",
    "examples_to_embed_idx = neg_examples_idx + pos_examples_idx"
   ],
   "metadata": {
    "collapsed": false
   }
  },
  {
   "cell_type": "code",
   "execution_count": 5,
   "outputs": [
    {
     "name": "stdout",
     "output_type": "stream",
     "text": [
      "there are 1000 sentences in the training set\n"
     ]
    }
   ],
   "source": [
    "train_sentences = [imdb['train'][int(i)]['text'] for i in examples_to_embed_idx]\n",
    "train_labels = [imdb['train'][int(i)]['label'] for i in examples_to_embed_idx]\n",
    "print(f\"there are {len(train_sentences)} sentences in the training set\")"
   ],
   "metadata": {
    "collapsed": false
   }
  },
  {
   "cell_type": "markdown",
   "source": [
    "## Get embeddings"
   ],
   "metadata": {
    "collapsed": false
   }
  },
  {
   "cell_type": "markdown",
   "source": [
    "#### BERT embeddings"
   ],
   "metadata": {
    "collapsed": false
   }
  },
  {
   "cell_type": "code",
   "execution_count": 13,
   "outputs": [],
   "source": [
    "# initialize a tokenizer\n",
    "bert_tokenizer = AutoTokenizer.from_pretrained('bert-base-uncased')"
   ],
   "metadata": {
    "collapsed": false
   }
  },
  {
   "cell_type": "code",
   "execution_count": 14,
   "outputs": [
    {
     "name": "stderr",
     "output_type": "stream",
     "text": [
      "Some weights of the model checkpoint at bert-base-uncased were not used when initializing BertModel: ['cls.predictions.decoder.weight', 'cls.predictions.bias', 'cls.predictions.transform.dense.bias', 'cls.predictions.transform.LayerNorm.bias', 'cls.predictions.transform.LayerNorm.weight', 'cls.predictions.transform.dense.weight', 'cls.seq_relationship.weight', 'cls.seq_relationship.bias']\n",
      "- This IS expected if you are initializing BertModel from the checkpoint of a model trained on another task or with another architecture (e.g. initializing a BertForSequenceClassification model from a BertForPreTraining model).\n",
      "- This IS NOT expected if you are initializing BertModel from the checkpoint of a model that you expect to be exactly identical (initializing a BertForSequenceClassification model from a BertForSequenceClassification model).\n"
     ]
    }
   ],
   "source": [
    "from transformers import BertModel\n",
    "bert_model = BertModel.from_pretrained(\"bert-base-uncased\")"
   ],
   "metadata": {
    "collapsed": false
   }
  },
  {
   "cell_type": "code",
   "execution_count": 15,
   "outputs": [
    {
     "name": "stdout",
     "output_type": "stream",
     "text": [
      "embedding dimension = 768\n"
     ]
    },
    {
     "data": {
      "text/plain": "False"
     },
     "execution_count": 15,
     "metadata": {},
     "output_type": "execute_result"
    }
   ],
   "source": [
    "embed_dim = bert_model.config.hidden_size\n",
    "print(f\"embedding dimension = {embed_dim}\")\n",
    "bert_model.config.output_hidden_states"
   ],
   "metadata": {
    "collapsed": false
   }
  },
  {
   "cell_type": "code",
   "execution_count": 16,
   "outputs": [
    {
     "name": "stdout",
     "output_type": "stream",
     "text": [
      "processed 101 sentences\n",
      "so far, 45.7897 seconds passed \n",
      "\n",
      "\n",
      "processed 201 sentences\n",
      "so far, 89.3573 seconds passed \n",
      "\n",
      "\n",
      "processed 301 sentences\n",
      "so far, 135.1618 seconds passed \n",
      "\n",
      "\n",
      "processed 401 sentences\n",
      "so far, 183.8605 seconds passed \n",
      "\n",
      "\n",
      "processed 501 sentences\n",
      "so far, 230.6930 seconds passed \n",
      "\n",
      "\n",
      "processed 601 sentences\n",
      "so far, 274.4580 seconds passed \n",
      "\n",
      "\n",
      "processed 701 sentences\n",
      "so far, 319.8834 seconds passed \n",
      "\n",
      "\n",
      "processed 801 sentences\n",
      "so far, 362.6773 seconds passed \n",
      "\n",
      "\n",
      "processed 901 sentences\n",
      "so far, 408.3203 seconds passed \n",
      "\n",
      "\n"
     ]
    }
   ],
   "source": [
    "bert_embeddings = np.empty((num_sentences_to_embed,embed_dim))\n",
    "tic = time.perf_counter()\n",
    "for i in range(len(train_sentences)):\n",
    "    input = bert_tokenizer(train_sentences[i], padding=True, truncation=True, max_length=512, return_tensors=\"pt\")\n",
    "    with torch.no_grad():\n",
    "        output = bert_model(**input, output_hidden_states=True)\n",
    "    # as the sentence embedding we're taking the hidden state corresponding to the [CLS] token\n",
    "    bert_embeddings[i,:] = output.last_hidden_state[:,0,:].numpy()\n",
    "    if (i%100 == 0) and (i != 0):\n",
    "        toc = time.perf_counter()\n",
    "        print(f\"processed {(i+1)} sentences\")\n",
    "        print(f\"so far, {toc - tic:0.4f} seconds passed \\n\\n\")\n"
   ],
   "metadata": {
    "collapsed": false
   }
  },
  {
   "cell_type": "code",
   "execution_count": 17,
   "outputs": [
    {
     "name": "stdout",
     "output_type": "stream",
     "text": [
      "bert embeddings shape = (1000, 768)\n"
     ]
    }
   ],
   "source": [
    "print(f\"bert embeddings shape = {bert_embeddings.shape}\")"
   ],
   "metadata": {
    "collapsed": false
   }
  },
  {
   "cell_type": "markdown",
   "source": [
    "#### GPT2 embeddings"
   ],
   "metadata": {
    "collapsed": false
   }
  },
  {
   "cell_type": "code",
   "execution_count": 6,
   "outputs": [],
   "source": [
    "from transformers import AutoTokenizer, GPT2Model\n",
    "gpt2_tokenizer = AutoTokenizer.from_pretrained(\"gpt2\")\n",
    "gpt2_model = GPT2Model.from_pretrained(\"gpt2\")"
   ],
   "metadata": {
    "collapsed": false
   }
  },
  {
   "cell_type": "code",
   "execution_count": 7,
   "outputs": [
    {
     "name": "stdout",
     "output_type": "stream",
     "text": [
      "embedding dimension = 768\n",
      "processed 101 sentences\n",
      "so far, 66.7559 seconds passed \n",
      "\n",
      "\n",
      "processed 201 sentences\n",
      "so far, 125.8900 seconds passed \n",
      "\n",
      "\n",
      "processed 301 sentences\n",
      "so far, 196.7547 seconds passed \n",
      "\n",
      "\n",
      "processed 401 sentences\n",
      "so far, 271.1222 seconds passed \n",
      "\n",
      "\n",
      "processed 501 sentences\n",
      "so far, 344.7378 seconds passed \n",
      "\n",
      "\n",
      "processed 601 sentences\n",
      "so far, 428.6384 seconds passed \n",
      "\n",
      "\n",
      "processed 701 sentences\n",
      "so far, 509.9998 seconds passed \n",
      "\n",
      "\n",
      "processed 801 sentences\n",
      "so far, 584.1705 seconds passed \n",
      "\n",
      "\n",
      "processed 901 sentences\n",
      "so far, 657.2245 seconds passed \n",
      "\n",
      "\n"
     ]
    }
   ],
   "source": [
    "embed_dim = gpt2_model.config.n_embd\n",
    "print(f\"embedding dimension = {embed_dim}\")\n",
    "gpt2_embeddings = np.empty((num_sentences_to_embed,embed_dim))\n",
    "tic = time.perf_counter()\n",
    "for i in range(len(train_sentences)):\n",
    "    input = gpt2_tokenizer(train_sentences[i], truncation=True, max_length=1024,return_tensors=\"pt\")\n",
    "    with torch.no_grad():\n",
    "        output = gpt2_model(**input)\n",
    "    gpt2_embeddings[i,:] = output.last_hidden_state[:,:,:].numpy().mean(axis=1)\n",
    "    if (i%100 == 0) and (i != 0):\n",
    "        toc = time.perf_counter()\n",
    "        print(f\"processed {(i+1)} sentences\")\n",
    "        print(f\"so far, {toc - tic:0.4f} seconds passed \\n\\n\")\n"
   ],
   "metadata": {
    "collapsed": false
   }
  },
  {
   "cell_type": "code",
   "execution_count": 52,
   "outputs": [
    {
     "name": "stdout",
     "output_type": "stream",
     "text": [
      "tensor([[15496,    11,   616,  3290,   318, 13779]])\n"
     ]
    }
   ],
   "source": [
    "input = gpt2_tokenizer(\"Hello, my dog is cute\", return_tensors=\"pt\")\n",
    "print(input.input_ids)"
   ],
   "metadata": {
    "collapsed": false
   }
  },
  {
   "cell_type": "code",
   "execution_count": 55,
   "outputs": [
    {
     "data": {
      "text/plain": "','"
     },
     "execution_count": 55,
     "metadata": {},
     "output_type": "execute_result"
    }
   ],
   "source": [
    "gpt2_tokenizer.convert_ids_to_tokens(11)\n"
   ],
   "metadata": {
    "collapsed": false
   }
  },
  {
   "cell_type": "code",
   "execution_count": 60,
   "outputs": [
    {
     "data": {
      "text/plain": "Downloading (…)lve/main/config.json:   0%|          | 0.00/684 [00:00<?, ?B/s]",
      "application/vnd.jupyter.widget-view+json": {
       "version_major": 2,
       "version_minor": 0,
       "model_id": "0e26fc5d620d4e99a1190c04dfcb8990"
      }
     },
     "metadata": {},
     "output_type": "display_data"
    },
    {
     "data": {
      "text/plain": "Downloading (…)ve/main/spiece.model:   0%|          | 0.00/760k [00:00<?, ?B/s]",
      "application/vnd.jupyter.widget-view+json": {
       "version_major": 2,
       "version_minor": 0,
       "model_id": "9fa5b97cf59a4153a389d3e40fb4981c"
      }
     },
     "metadata": {},
     "output_type": "display_data"
    },
    {
     "data": {
      "text/plain": "Downloading (…)/main/tokenizer.json:   0%|          | 0.00/1.31M [00:00<?, ?B/s]",
      "application/vnd.jupyter.widget-view+json": {
       "version_major": 2,
       "version_minor": 0,
       "model_id": "e1916e0052a947f281ab8ce1c9de8f12"
      }
     },
     "metadata": {},
     "output_type": "display_data"
    },
    {
     "data": {
      "text/plain": "Downloading pytorch_model.bin:   0%|          | 0.00/47.4M [00:00<?, ?B/s]",
      "application/vnd.jupyter.widget-view+json": {
       "version_major": 2,
       "version_minor": 0,
       "model_id": "90525981603f4d9e8ddcecb7c13d5084"
      }
     },
     "metadata": {},
     "output_type": "display_data"
    },
    {
     "name": "stderr",
     "output_type": "stream",
     "text": [
      "Some weights of the model checkpoint at albert-base-v2 were not used when initializing AlbertModel: ['predictions.bias', 'predictions.dense.weight', 'predictions.dense.bias', 'predictions.decoder.bias', 'predictions.LayerNorm.bias', 'predictions.decoder.weight', 'predictions.LayerNorm.weight']\n",
      "- This IS expected if you are initializing AlbertModel from the checkpoint of a model trained on another task or with another architecture (e.g. initializing a BertForSequenceClassification model from a BertForPreTraining model).\n",
      "- This IS NOT expected if you are initializing AlbertModel from the checkpoint of a model that you expect to be exactly identical (initializing a BertForSequenceClassification model from a BertForSequenceClassification model).\n"
     ]
    }
   ],
   "source": [
    "from transformers import AutoTokenizer, XLMModel, AlbertModel\n",
    "\n",
    "xxx_tokenizer = AutoTokenizer.from_pretrained(\"albert-base-v2\")\n",
    "xxx_model = AlbertModel.from_pretrained(\"albert-base-v2\")"
   ],
   "metadata": {
    "collapsed": false
   }
  },
  {
   "cell_type": "code",
   "execution_count": 62,
   "outputs": [
    {
     "name": "stdout",
     "output_type": "stream",
     "text": [
      "embedding dimension = 768\n"
     ]
    }
   ],
   "source": [
    "embed_dim = xxx_model.config.hidden_size\n",
    "print(f\"embedding dimension = {embed_dim}\")\n",
    "input = xxx_tokenizer(\"Hello, my dog is cute\", return_tensors=\"pt\")\n",
    "output = xxx_model(**input)\n",
    "\n",
    "last_hidden_states = output.last_hidden_state"
   ],
   "metadata": {
    "collapsed": false
   }
  },
  {
   "cell_type": "code",
   "execution_count": 64,
   "outputs": [
    {
     "data": {
      "text/plain": "'[CLS]'"
     },
     "execution_count": 64,
     "metadata": {},
     "output_type": "execute_result"
    }
   ],
   "source": [
    "xxx_tokenizer.convert_ids_to_tokens(2)"
   ],
   "metadata": {
    "collapsed": false
   }
  },
  {
   "cell_type": "code",
   "execution_count": 63,
   "outputs": [
    {
     "data": {
      "text/plain": "tensor([[    2, 10975,    15,    51,  1952,    25, 10901,     3]])"
     },
     "execution_count": 63,
     "metadata": {},
     "output_type": "execute_result"
    }
   ],
   "source": [
    "input.input_ids"
   ],
   "metadata": {
    "collapsed": false
   }
  },
  {
   "cell_type": "code",
   "execution_count": 38,
   "outputs": [
    {
     "data": {
      "text/plain": "torch.Size([1, 8, 2048])"
     },
     "execution_count": 38,
     "metadata": {},
     "output_type": "execute_result"
    }
   ],
   "source": [
    "last_hidden_states.shape"
   ],
   "metadata": {
    "collapsed": false
   }
  },
  {
   "cell_type": "code",
   "execution_count": 44,
   "outputs": [
    {
     "data": {
      "text/plain": "Downloading (…)lve/main/config.json:   0%|          | 0.00/1.72k [00:00<?, ?B/s]",
      "application/vnd.jupyter.widget-view+json": {
       "version_major": 2,
       "version_minor": 0,
       "model_id": "62bed08d3fee4665b9a7fb4cc2f5c306"
      }
     },
     "metadata": {},
     "output_type": "display_data"
    },
    {
     "data": {
      "text/plain": "Downloading (…)olve/main/vocab.json:   0%|          | 0.00/899k [00:00<?, ?B/s]",
      "application/vnd.jupyter.widget-view+json": {
       "version_major": 2,
       "version_minor": 0,
       "model_id": "9384bec53fdf46099391eea31a4d90a2"
      }
     },
     "metadata": {},
     "output_type": "display_data"
    },
    {
     "data": {
      "text/plain": "Downloading (…)olve/main/merges.txt:   0%|          | 0.00/456k [00:00<?, ?B/s]",
      "application/vnd.jupyter.widget-view+json": {
       "version_major": 2,
       "version_minor": 0,
       "model_id": "fed107e0da6d49eca84434b9c1f1e701"
      }
     },
     "metadata": {},
     "output_type": "display_data"
    },
    {
     "data": {
      "text/plain": "Downloading (…)/main/tokenizer.json:   0%|          | 0.00/1.36M [00:00<?, ?B/s]",
      "application/vnd.jupyter.widget-view+json": {
       "version_major": 2,
       "version_minor": 0,
       "model_id": "c28472ae5fd24fc78738f0611b9d4b05"
      }
     },
     "metadata": {},
     "output_type": "display_data"
    },
    {
     "data": {
      "text/plain": "Downloading pytorch_model.bin:   0%|          | 0.00/558M [00:00<?, ?B/s]",
      "application/vnd.jupyter.widget-view+json": {
       "version_major": 2,
       "version_minor": 0,
       "model_id": "0861bab651ec43e8817e008350ce0d2d"
      }
     },
     "metadata": {},
     "output_type": "display_data"
    }
   ],
   "source": [
    "from transformers import AutoTokenizer, BartModel\n",
    "\n",
    "bart_tokenizer = AutoTokenizer.from_pretrained(\"facebook/bart-base\")\n",
    "bart_model = BartModel.from_pretrained(\"facebook/bart-base\")\n",
    "\n",
    "inputs = bart_tokenizer(\"Hello, my dog is cute\", return_tensors=\"pt\")\n",
    "outputs = bart_model(**inputs)\n",
    "\n",
    "last_hidden_states = outputs.last_hidden_state"
   ],
   "metadata": {
    "collapsed": false
   }
  },
  {
   "cell_type": "code",
   "execution_count": 45,
   "outputs": [
    {
     "data": {
      "text/plain": "tensor([[    0, 31414,     6,   127,  2335,    16, 11962,     2]])"
     },
     "execution_count": 45,
     "metadata": {},
     "output_type": "execute_result"
    }
   ],
   "source": [
    "inputs.input_ids"
   ],
   "metadata": {
    "collapsed": false
   }
  },
  {
   "cell_type": "code",
   "execution_count": 51,
   "outputs": [
    {
     "data": {
      "text/plain": "torch.Size([1, 8, 768])"
     },
     "execution_count": 51,
     "metadata": {},
     "output_type": "execute_result"
    }
   ],
   "source": [
    "last_hidden_states.shape"
   ],
   "metadata": {
    "collapsed": false
   }
  },
  {
   "cell_type": "code",
   "execution_count": 49,
   "outputs": [
    {
     "data": {
      "text/plain": "'Hello'"
     },
     "execution_count": 49,
     "metadata": {},
     "output_type": "execute_result"
    }
   ],
   "source": [
    "bart_tokenizer.convert_ids_to_tokens(31414)"
   ],
   "metadata": {
    "collapsed": false
   }
  },
  {
   "cell_type": "code",
   "execution_count": 50,
   "outputs": [
    {
     "name": "stdout",
     "output_type": "stream",
     "text": [
      "BartModel(\n",
      "  (shared): Embedding(50265, 768, padding_idx=1)\n",
      "  (encoder): BartEncoder(\n",
      "    (embed_tokens): Embedding(50265, 768, padding_idx=1)\n",
      "    (embed_positions): BartLearnedPositionalEmbedding(1026, 768)\n",
      "    (layers): ModuleList(\n",
      "      (0-5): 6 x BartEncoderLayer(\n",
      "        (self_attn): BartAttention(\n",
      "          (k_proj): Linear(in_features=768, out_features=768, bias=True)\n",
      "          (v_proj): Linear(in_features=768, out_features=768, bias=True)\n",
      "          (q_proj): Linear(in_features=768, out_features=768, bias=True)\n",
      "          (out_proj): Linear(in_features=768, out_features=768, bias=True)\n",
      "        )\n",
      "        (self_attn_layer_norm): LayerNorm((768,), eps=1e-05, elementwise_affine=True)\n",
      "        (activation_fn): GELUActivation()\n",
      "        (fc1): Linear(in_features=768, out_features=3072, bias=True)\n",
      "        (fc2): Linear(in_features=3072, out_features=768, bias=True)\n",
      "        (final_layer_norm): LayerNorm((768,), eps=1e-05, elementwise_affine=True)\n",
      "      )\n",
      "    )\n",
      "    (layernorm_embedding): LayerNorm((768,), eps=1e-05, elementwise_affine=True)\n",
      "  )\n",
      "  (decoder): BartDecoder(\n",
      "    (embed_tokens): Embedding(50265, 768, padding_idx=1)\n",
      "    (embed_positions): BartLearnedPositionalEmbedding(1026, 768)\n",
      "    (layers): ModuleList(\n",
      "      (0-5): 6 x BartDecoderLayer(\n",
      "        (self_attn): BartAttention(\n",
      "          (k_proj): Linear(in_features=768, out_features=768, bias=True)\n",
      "          (v_proj): Linear(in_features=768, out_features=768, bias=True)\n",
      "          (q_proj): Linear(in_features=768, out_features=768, bias=True)\n",
      "          (out_proj): Linear(in_features=768, out_features=768, bias=True)\n",
      "        )\n",
      "        (activation_fn): GELUActivation()\n",
      "        (self_attn_layer_norm): LayerNorm((768,), eps=1e-05, elementwise_affine=True)\n",
      "        (encoder_attn): BartAttention(\n",
      "          (k_proj): Linear(in_features=768, out_features=768, bias=True)\n",
      "          (v_proj): Linear(in_features=768, out_features=768, bias=True)\n",
      "          (q_proj): Linear(in_features=768, out_features=768, bias=True)\n",
      "          (out_proj): Linear(in_features=768, out_features=768, bias=True)\n",
      "        )\n",
      "        (encoder_attn_layer_norm): LayerNorm((768,), eps=1e-05, elementwise_affine=True)\n",
      "        (fc1): Linear(in_features=768, out_features=3072, bias=True)\n",
      "        (fc2): Linear(in_features=3072, out_features=768, bias=True)\n",
      "        (final_layer_norm): LayerNorm((768,), eps=1e-05, elementwise_affine=True)\n",
      "      )\n",
      "    )\n",
      "    (layernorm_embedding): LayerNorm((768,), eps=1e-05, elementwise_affine=True)\n",
      "  )\n",
      ")\n"
     ]
    }
   ],
   "source": [
    "print(bart_model)"
   ],
   "metadata": {
    "collapsed": false
   }
  },
  {
   "cell_type": "markdown",
   "source": [
    "## Classification of embedded test"
   ],
   "metadata": {
    "collapsed": false
   }
  },
  {
   "cell_type": "code",
   "execution_count": 18,
   "outputs": [
    {
     "name": "stdout",
     "output_type": "stream",
     "text": [
      "X shape = (1000, 1536)\n"
     ]
    }
   ],
   "source": [
    "X = np.concatenate((bert_embeddings,gpt2_embeddings),axis=1)\n",
    "#X = gpt2_embeddings.copy()\n",
    "print(f\"X shape = {X.shape}\")"
   ],
   "metadata": {
    "collapsed": false
   }
  },
  {
   "cell_type": "code",
   "execution_count": 19,
   "outputs": [],
   "source": [
    "y = np.array(train_labels)"
   ],
   "metadata": {
    "collapsed": false
   }
  },
  {
   "cell_type": "code",
   "execution_count": 20,
   "outputs": [
    {
     "name": "stdout",
     "output_type": "stream",
     "text": [
      "100%|██████████| 50/50 [00:59<00:00,  1.18s/trial, best loss: -0.85] \n",
      "{'C': 0.11066135296961566, 'degree': 1, 'kernel': 'linear'}\n"
     ]
    }
   ],
   "source": [
    "# optimize a SVM classifier to the train data\n",
    "svm_search_space = {'C' : hp.uniform('C',0.1,10),\n",
    "                        'kernel': hp.choice('kernel',['linear', 'poly', 'rbf', 'sigmoid']),\n",
    "                        'degree' : hp.choice('degree',list(range(1,10)))}\n",
    "\n",
    "hyper_opt = model_hypopt(model=SVC,param_space=svm_search_space,X_train=X, y_train=y, iterations=50)\n",
    "best_params = hyper_opt.run()\n",
    "print(best_params)"
   ],
   "metadata": {
    "collapsed": false
   }
  },
  {
   "cell_type": "code",
   "execution_count": 21,
   "outputs": [
    {
     "name": "stdout",
     "output_type": "stream",
     "text": [
      "Measuring accuracy with 2 classes,  5 training examples per class\n",
      "---------------------------------------------------------------\n",
      "In classifier with feature selector FeatureSelectionDiversityPursuitAnova no features were selected and classifier will not be fitted to data - will predict at random!\n",
      "In classifier with feature selector FeatureSelectionOneVsAllAnova no features were selected and classifier will not be fitted to data - will predict at random!\n",
      "In classifier with feature selector FeatureSelectionDiversityPursuitAnova no features were selected and classifier will not be fitted to data - will predict at random!\n",
      "In classifier with feature selector FeatureSelectionOneVsAllAnova no features were selected and classifier will not be fitted to data - will predict at random!\n",
      "In classifier with feature selector FeatureSelectionDiversityPursuitAnova no features were selected and classifier will not be fitted to data - will predict at random!\n",
      "In classifier with feature selector FeatureSelectionOneVsAllAnova no features were selected and classifier will not be fitted to data - will predict at random!\n",
      "In classifier with feature selector FeatureSelectionDiversityPursuitAnova no features were selected and classifier will not be fitted to data - will predict at random!\n",
      "In classifier with feature selector FeatureSelectionOneVsAllAnova no features were selected and classifier will not be fitted to data - will predict at random!\n",
      "classifier cs_cls, mean accuracy is 0.5, std accuracy is 0.0\n",
      "classifier cs_fs_dp, mean accuracy is 0.5744444444444443, std accuracy is 0.06893101292156988\n",
      "classifier cs_fs_ova, mean accuracy is 0.5753333333333334, std accuracy is 0.06785626430062476\n",
      "classifier knn_cls, mean accuracy is 0.5135353535353535, std accuracy is 0.030145719626419848\n",
      "classifier knn_fs_dp, mean accuracy is 0.5785454545454546, std accuracy is 0.06323024490727178\n",
      "classifier knn_fs_ova, mean accuracy is 0.5787272727272728, std accuracy is 0.06300064375998092\n",
      "classifier svm, mean accuracy is 0.5662222222222222, std accuracy is 0.04614256397937544\n",
      "\n",
      "\n",
      "\n",
      "\n",
      "Measuring accuracy with 2 classes,  10 training examples per class\n",
      "---------------------------------------------------------------\n",
      "classifier cs_cls, mean accuracy is 0.5, std accuracy is 0.0\n",
      "classifier cs_fs_dp, mean accuracy is 0.6123877551020408, std accuracy is 0.09090731740725876\n",
      "classifier cs_fs_ova, mean accuracy is 0.6123877551020408, std accuracy is 0.09090731740725876\n",
      "classifier knn_cls, mean accuracy is 0.5243673469387754, std accuracy is 0.02246811800152857\n",
      "classifier knn_fs_dp, mean accuracy is 0.6198367346938776, std accuracy is 0.0703096500995859\n",
      "classifier knn_fs_ova, mean accuracy is 0.6198367346938776, std accuracy is 0.0703096500995859\n",
      "classifier svm, mean accuracy is 0.6424897959183674, std accuracy is 0.04643956362364264\n",
      "\n",
      "\n",
      "\n",
      "\n",
      "Measuring accuracy with 2 classes,  20 training examples per class\n",
      "---------------------------------------------------------------\n",
      "classifier cs_cls, mean accuracy is 0.5, std accuracy is 0.0\n",
      "classifier cs_fs_dp, mean accuracy is 0.6450208333333333, std accuracy is 0.09825877514177098\n",
      "classifier cs_fs_ova, mean accuracy is 0.6450208333333333, std accuracy is 0.09825877514177098\n",
      "classifier knn_cls, mean accuracy is 0.5466458333333333, std accuracy is 0.023908725815879214\n",
      "classifier knn_fs_dp, mean accuracy is 0.6671041666666667, std accuracy is 0.0661572627920691\n",
      "classifier knn_fs_ova, mean accuracy is 0.6671041666666667, std accuracy is 0.0661572627920691\n",
      "classifier svm, mean accuracy is 0.7248125000000001, std accuracy is 0.03688717430858891\n",
      "\n",
      "\n",
      "\n",
      "\n",
      "Measuring accuracy with 2 classes,  50 training examples per class\n",
      "---------------------------------------------------------------\n",
      "classifier cs_cls, mean accuracy is 0.5, std accuracy is 0.0\n",
      "classifier cs_fs_dp, mean accuracy is 0.7229333333333333, std accuracy is 0.08105652958062244\n",
      "classifier cs_fs_ova, mean accuracy is 0.7229333333333333, std accuracy is 0.08105652958062244\n",
      "classifier knn_cls, mean accuracy is 0.5734444444444444, std accuracy is 0.020410902436482442\n",
      "classifier knn_fs_dp, mean accuracy is 0.7274444444444444, std accuracy is 0.04138005125631563\n",
      "classifier knn_fs_ova, mean accuracy is 0.7274444444444444, std accuracy is 0.04138005125631563\n",
      "classifier svm, mean accuracy is 0.7919555555555555, std accuracy is 0.022226177425795978\n",
      "\n",
      "\n",
      "\n",
      "\n"
     ]
    },
    {
     "data": {
      "text/plain": "<Figure size 1200x600 with 1 Axes>",
      "image/png": "[encoded data removed]"
     },
     "metadata": {},
     "output_type": "display_data"
    },
    {
     "data": {
      "text/plain": "<Figure size 1200x600 with 1 Axes>",
      "image/png": "[encoded data removed]"
     },
     "metadata": {},
     "output_type": "display_data"
    }
   ],
   "source": [
    "from lib.feature_selection import FeatureSelectionDiversityPursuitAnova,FeatureSelectionOneVsAllAnova\n",
    "gamma = 0.2\n",
    "train_sizes = [5,10,20,50]\n",
    "# define feature selectors\n",
    "dp_fs = FeatureSelectionDiversityPursuitAnova(hc_gamma=gamma)\n",
    "ova_fs = FeatureSelectionOneVsAllAnova(hc_gamma=gamma)\n",
    "# defining classifiers\n",
    "cs_cls  = CentroidSimilarity()\n",
    "cs_fs_dp = ClassifierFeatureSelection(CentroidSimilarity(), dp_fs)\n",
    "cs_fs_ova = ClassifierFeatureSelection(CentroidSimilarity(), ova_fs)\n",
    "knn_cls = KNeighborsClassifier(n_neighbors=train_sizes[0])\n",
    "knn_fs_dp = ClassifierFeatureSelection(knn_cls, dp_fs)\n",
    "knn_fs_ova = ClassifierFeatureSelection(knn_cls, ova_fs)\n",
    "svm_cls = SVC(**best_params)\n",
    "classifiers = [cs_cls, cs_fs_dp, cs_fs_ova, knn_cls, knn_fs_dp, knn_fs_ova, svm_cls]\n",
    "bar_labels = ['cs_cls', 'cs_fs_dp', 'cs_fs_ova', 'knn_cls', 'knn_fs_dp', 'knn_fs_ova', 'svm']\n",
    "num_experiments = 50\n",
    "num_splits = 5\n",
    "# define possible sizes for the train set (number of train examples per class)\n",
    "num_classes = 2\n",
    "accuracies = np.empty((len(classifiers),len(train_sizes),num_experiments))\n",
    "accuracies_w_noise = np.empty((len(classifiers),len(train_sizes),num_experiments))\n",
    "num_features = np.empty((len(classifiers),len(train_sizes),num_experiments))\n",
    "num_features_w_noise = np.empty((len(classifiers),len(train_sizes),num_experiments))\n",
    "\n",
    "for i in range(len(train_sizes)):\n",
    "    print(f\"Measuring accuracy with {num_classes} classes,  {train_sizes[i]} training examples per class\")\n",
    "    print(\"---------------------------------------------------------------\")\n",
    "    for j in range(num_experiments):\n",
    "        X_train, X_test, y_train, y_test = train_test_split(X, y, train_size=train_sizes[i]*num_classes, stratify=y)\n",
    "        accuracies[:,i,j], num_features[:,i,j] = multiple_classifiers_fit_predict(classifiers=classifiers,\n",
    "                                                                                              X_train=X_train,\n",
    "                                                                                              y_train=y_train,\n",
    "                                                                                              X_test=X_test,\n",
    "                                                                                              y_test=y_test)\n",
    "    for l in range(len(classifiers)):\n",
    "        print(f\"classifier {bar_labels[l]}, mean accuracy is {np.mean(accuracies[l,i,:])}, std accuracy is {np.std(accuracies[l,i,:])}\")\n",
    "    print(\"\\n\\n\\n\")\n",
    "\n",
    "bar_plot_scores(scores=np.mean(accuracies,axis=2),\n",
    "                bar_labels=bar_labels,\n",
    "                xticklabels=train_sizes,\n",
    "                xlabel='train_size',\n",
    "                ylabel='accuracy',\n",
    "                title=f'accuracy vs. train size for {num_classes} classes')\n",
    "\n",
    "bar_plot_scores(scores=np.mean(num_features,axis=2),\n",
    "                bar_labels=bar_labels,\n",
    "                xticklabels=train_sizes,\n",
    "                xlabel='train_size',\n",
    "                ylabel='number of features',\n",
    "                title=f'number of selected features vs. train size for {num_classes} classes')"
   ],
   "metadata": {
    "collapsed": false
   }
  },
  {
   "cell_type": "markdown",
   "source": [
    "## Text classification using GPTNeo embeddings"
   ],
   "metadata": {
    "collapsed": false
   }
  },
  {
   "cell_type": "code",
   "execution_count": 63,
   "outputs": [
    {
     "data": {
      "text/plain": "Downloading (…)okenizer_config.json:   0%|          | 0.00/200 [00:00<?, ?B/s]",
      "application/vnd.jupyter.widget-view+json": {
       "version_major": 2,
       "version_minor": 0,
       "model_id": "39c5fac1bd0c4d73bd413bb9e1fd0bca"
      }
     },
     "metadata": {},
     "output_type": "display_data"
    },
    {
     "data": {
      "text/plain": "Downloading (…)lve/main/config.json:   0%|          | 0.00/1.46k [00:00<?, ?B/s]",
      "application/vnd.jupyter.widget-view+json": {
       "version_major": 2,
       "version_minor": 0,
       "model_id": "fa694a10151b4096a3febafbb96c7916"
      }
     },
     "metadata": {},
     "output_type": "display_data"
    },
    {
     "data": {
      "text/plain": "Downloading (…)olve/main/vocab.json:   0%|          | 0.00/798k [00:00<?, ?B/s]",
      "application/vnd.jupyter.widget-view+json": {
       "version_major": 2,
       "version_minor": 0,
       "model_id": "3d6a01cd32674517a383e9d7f741d042"
      }
     },
     "metadata": {},
     "output_type": "display_data"
    },
    {
     "data": {
      "text/plain": "Downloading (…)olve/main/merges.txt:   0%|          | 0.00/456k [00:00<?, ?B/s]",
      "application/vnd.jupyter.widget-view+json": {
       "version_major": 2,
       "version_minor": 0,
       "model_id": "2ae892f91c394edebb6d1fa9c4c55367"
      }
     },
     "metadata": {},
     "output_type": "display_data"
    },
    {
     "data": {
      "text/plain": "Downloading (…)cial_tokens_map.json:   0%|          | 0.00/90.0 [00:00<?, ?B/s]",
      "application/vnd.jupyter.widget-view+json": {
       "version_major": 2,
       "version_minor": 0,
       "model_id": "6b2081565b704fc192af8de2cdc5352e"
      }
     },
     "metadata": {},
     "output_type": "display_data"
    },
    {
     "name": "stdout",
     "output_type": "stream",
     "text": [
      "<|endoftext|>\n"
     ]
    },
    {
     "data": {
      "text/plain": "50256"
     },
     "execution_count": 63,
     "metadata": {},
     "output_type": "execute_result"
    }
   ],
   "source": [
    "tokenizer = AutoTokenizer.from_pretrained(\"EleutherAI/gpt-neo-2.7B\")\n",
    "tokenizer.pad_token = tokenizer.eos_token\n",
    "print(tokenizer.pad_token)\n",
    "tokenizer.convert_tokens_to_ids(tokenizer.pad_token)"
   ],
   "metadata": {
    "collapsed": false
   }
  },
  {
   "cell_type": "code",
   "execution_count": 67,
   "outputs": [
    {
     "name": "stderr",
     "output_type": "stream",
     "text": [
      "Some weights of GPTNeoModel were not initialized from the model checkpoint at EleutherAI/gpt-neo-1.3B and are newly initialized: ['transformer.h.19.attn.attention.bias', 'transformer.h.11.attn.attention.bias', 'transformer.h.13.attn.attention.bias', 'transformer.h.21.attn.attention.bias', 'transformer.h.9.attn.attention.bias', 'transformer.h.3.attn.attention.bias', 'transformer.h.15.attn.attention.bias', 'transformer.h.7.attn.attention.bias', 'transformer.h.1.attn.attention.bias', 'transformer.h.5.attn.attention.bias', 'transformer.h.17.attn.attention.bias', 'transformer.h.23.attn.attention.bias']\n",
      "You should probably TRAIN this model on a down-stream task to be able to use it for predictions and inference.\n"
     ]
    }
   ],
   "source": [
    "from transformers import GPTNeoForSequenceClassification, GPTNeoModel\n",
    "gpt_neo_model = GPTNeoModel.from_pretrained(\"EleutherAI/gpt-neo-1.3B\")\n",
    "gpt_neo_model.config.pad_token_id = tokenizer.convert_tokens_to_ids(tokenizer.pad_token)"
   ],
   "metadata": {
    "collapsed": false
   }
  },
  {
   "cell_type": "code",
   "execution_count": 65,
   "outputs": [
    {
     "data": {
      "text/plain": "<torch.utils.hooks.RemovableHandle at 0x1f61f2755d0>"
     },
     "execution_count": 65,
     "metadata": {},
     "output_type": "execute_result"
    }
   ],
   "source": [
    "##### HELPER FUNCTION FOR FEATURE EXTRACTION\n",
    "\n",
    "def get_features(name):\n",
    "    def hook(model, input, output):\n",
    "        features[name] = input[0].detach()\n",
    "    return hook\n",
    "\n",
    "#model.transformer.ln_f.register_forward_hook(get_features('cls_input'))\n",
    "gpt_neo_model.score.register_forward_hook(get_features('cls_input'))"
   ],
   "metadata": {
    "collapsed": false
   }
  },
  {
   "cell_type": "code",
   "execution_count": 66,
   "outputs": [
    {
     "name": "stdout",
     "output_type": "stream",
     "text": [
      "{'input_ids': tensor([[15496,    11,   616,  3290,   318,  1107, 23374]]), 'attention_mask': tensor([[1, 1, 1, 1, 1, 1, 1]])}\n",
      "tokenization and inference in 1.0834 seconds\n",
      "tensor([[3.0147, 3.3332]])\n"
     ]
    }
   ],
   "source": [
    "#sentences = [\"Hello, my dog is really disgusting\", 'This is awful!!']\n",
    "sentences = [\"Hello, my dog is really disgusting\"]\n",
    "tic = time.perf_counter()\n",
    "inputs = tokenizer(sentences, padding=True, truncation=True, max_length=256, return_tensors=\"pt\")\n",
    "with torch.no_grad():\n",
    "    logits = gpt_neo_model(**inputs).logits\n",
    "toc = time.perf_counter()\n",
    "print(inputs)\n",
    "print(f\"tokenization and inference in {toc - tic:0.4f} seconds\")\n",
    "predicted_class_id = logits\n",
    "print(predicted_class_id)"
   ],
   "metadata": {
    "collapsed": false
   }
  },
  {
   "cell_type": "code",
   "execution_count": 38,
   "outputs": [
    {
     "data": {
      "text/plain": "GPTNeoConfig {\n  \"_name_or_path\": \"EleutherAI/gpt-neo-1.3B\",\n  \"activation_function\": \"gelu_new\",\n  \"architectures\": [\n    \"GPTNeoForCausalLM\"\n  ],\n  \"attention_dropout\": 0,\n  \"attention_layers\": [\n    \"global\",\n    \"local\",\n    \"global\",\n    \"local\",\n    \"global\",\n    \"local\",\n    \"global\",\n    \"local\",\n    \"global\",\n    \"local\",\n    \"global\",\n    \"local\",\n    \"global\",\n    \"local\",\n    \"global\",\n    \"local\",\n    \"global\",\n    \"local\",\n    \"global\",\n    \"local\",\n    \"global\",\n    \"local\",\n    \"global\",\n    \"local\"\n  ],\n  \"attention_types\": [\n    [\n      [\n        \"global\",\n        \"local\"\n      ],\n      12\n    ]\n  ],\n  \"bos_token_id\": 50256,\n  \"embed_dropout\": 0,\n  \"eos_token_id\": 50256,\n  \"gradient_checkpointing\": false,\n  \"hidden_size\": 2048,\n  \"initializer_range\": 0.02,\n  \"intermediate_size\": null,\n  \"layer_norm_epsilon\": 1e-05,\n  \"max_position_embeddings\": 2048,\n  \"model_type\": \"gpt_neo\",\n  \"num_heads\": 16,\n  \"num_layers\": 24,\n  \"resid_dropout\": 0,\n  \"summary_activation\": null,\n  \"summary_first_dropout\": 0.1,\n  \"summary_proj_to_labels\": true,\n  \"summary_type\": \"cls_index\",\n  \"summary_use_proj\": true,\n  \"task_specific_params\": {\n    \"text-generation\": {\n      \"do_sample\": true,\n      \"max_length\": 50,\n      \"temperature\": 0.9\n    }\n  },\n  \"tokenizer_class\": \"GPT2Tokenizer\",\n  \"transformers_version\": \"4.27.1\",\n  \"use_cache\": true,\n  \"vocab_size\": 50257,\n  \"window_size\": 256\n}"
     },
     "execution_count": 38,
     "metadata": {},
     "output_type": "execute_result"
    }
   ],
   "source": [
    "model.config"
   ],
   "metadata": {
    "collapsed": false
   }
  },
  {
   "cell_type": "code",
   "execution_count": 58,
   "outputs": [
    {
     "data": {
      "text/plain": "torch.Size([2, 7, 2048])"
     },
     "execution_count": 58,
     "metadata": {},
     "output_type": "execute_result"
    }
   ],
   "source": [
    "features['cls_input'].shape"
   ],
   "metadata": {
    "collapsed": false
   }
  },
  {
   "cell_type": "code",
   "execution_count": 39,
   "outputs": [
    {
     "name": "stdout",
     "output_type": "stream",
     "text": [
      "GPTNeoForSequenceClassification(\n",
      "  (transformer): GPTNeoModel(\n",
      "    (wte): Embedding(50257, 2048)\n",
      "    (wpe): Embedding(2048, 2048)\n",
      "    (drop): Dropout(p=0.0, inplace=False)\n",
      "    (h): ModuleList(\n",
      "      (0-23): 24 x GPTNeoBlock(\n",
      "        (ln_1): LayerNorm((2048,), eps=1e-05, elementwise_affine=True)\n",
      "        (attn): GPTNeoAttention(\n",
      "          (attention): GPTNeoSelfAttention(\n",
      "            (attn_dropout): Dropout(p=0.0, inplace=False)\n",
      "            (resid_dropout): Dropout(p=0.0, inplace=False)\n",
      "            (k_proj): Linear(in_features=2048, out_features=2048, bias=False)\n",
      "            (v_proj): Linear(in_features=2048, out_features=2048, bias=False)\n",
      "            (q_proj): Linear(in_features=2048, out_features=2048, bias=False)\n",
      "            (out_proj): Linear(in_features=2048, out_features=2048, bias=True)\n",
      "          )\n",
      "        )\n",
      "        (ln_2): LayerNorm((2048,), eps=1e-05, elementwise_affine=True)\n",
      "        (mlp): GPTNeoMLP(\n",
      "          (c_fc): Linear(in_features=2048, out_features=8192, bias=True)\n",
      "          (c_proj): Linear(in_features=8192, out_features=2048, bias=True)\n",
      "          (act): NewGELUActivation()\n",
      "          (dropout): Dropout(p=0.0, inplace=False)\n",
      "        )\n",
      "      )\n",
      "    )\n",
      "    (ln_f): LayerNorm((2048,), eps=1e-05, elementwise_affine=True)\n",
      "  )\n",
      "  (score): Linear(in_features=2048, out_features=2, bias=False)\n",
      ")\n"
     ]
    }
   ],
   "source": [
    "print(model)"
   ],
   "metadata": {
    "collapsed": false
   }
  },
  {
   "cell_type": "code",
   "execution_count": 14,
   "outputs": [
    {
     "name": "stderr",
     "output_type": "stream",
     "text": [
      "Some weights of GPTNeoModel were not initialized from the model checkpoint at EleutherAI/gpt-neo-1.3B and are newly initialized: ['transformer.h.19.attn.attention.bias', 'transformer.h.11.attn.attention.bias', 'transformer.h.13.attn.attention.bias', 'transformer.h.21.attn.attention.bias', 'transformer.h.9.attn.attention.bias', 'transformer.h.3.attn.attention.bias', 'transformer.h.15.attn.attention.bias', 'transformer.h.7.attn.attention.bias', 'transformer.h.1.attn.attention.bias', 'transformer.h.5.attn.attention.bias', 'transformer.h.17.attn.attention.bias', 'transformer.h.23.attn.attention.bias']\n",
      "You should probably TRAIN this model on a down-stream task to be able to use it for predictions and inference.\n"
     ]
    }
   ],
   "source": [
    "from transformers import AutoTokenizer, GPTNeoModel\n",
    "import torch\n",
    "\n",
    "tokenizer = AutoTokenizer.from_pretrained(\"EleutherAI/gpt-neo-1.3B\")\n",
    "model = GPTNeoModel.from_pretrained(\"EleutherAI/gpt-neo-1.3B\")\n",
    "\n",
    "inputs = tokenizer(\"Hello, my dog is cute\", return_tensors=\"pt\")\n",
    "outputs = model(**inputs)\n",
    "\n",
    "last_hidden_states = outputs.last_hidden_state"
   ],
   "metadata": {
    "collapsed": false
   }
  },
  {
   "cell_type": "code",
   "execution_count": 16,
   "outputs": [
    {
     "data": {
      "text/plain": "{'input_ids': tensor([[15496,    11,   616,  3290,   318, 13779]]), 'attention_mask': tensor([[1, 1, 1, 1, 1, 1]])}"
     },
     "execution_count": 16,
     "metadata": {},
     "output_type": "execute_result"
    }
   ],
   "source": [
    "inputs"
   ],
   "metadata": {
    "collapsed": false
   }
  },
  {
   "cell_type": "code",
   "execution_count": 15,
   "outputs": [
    {
     "data": {
      "text/plain": "torch.Size([1, 6, 2048])"
     },
     "execution_count": 15,
     "metadata": {},
     "output_type": "execute_result"
    }
   ],
   "source": [
    "last_hidden_states.shape"
   ],
   "metadata": {
    "collapsed": false
   }
  }
 ],
 "metadata": {
  "kernelspec": {
   "display_name": "Python 3",
   "language": "python",
   "name": "python3"
  },
  "language_info": {
   "codemirror_mode": {
    "name": "ipython",
    "version": 2
   },
   "file_extension": ".py",
   "mimetype": "text/x-python",
   "name": "python",
   "nbconvert_exporter": "python",
   "pygments_lexer": "ipython2",
   "version": "2.7.6"
  }
 },
 "nbformat": 4,
 "nbformat_minor": 0
}
